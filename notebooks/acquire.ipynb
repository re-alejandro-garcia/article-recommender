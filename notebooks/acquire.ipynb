{
 "cells": [
  {
   "cell_type": "markdown",
   "id": "5e977990-8c4e-412d-934d-b2e4a3efb319",
   "metadata": {},
   "source": [
    "# Acquiring Article Data\n",
    "\n",
    "In this notebook we'll go through the process of acquiring all the article data that will be used in this project. The steps outlined here will allow us to replicate the process of acquiring the data, but new articles are published every day making it difficult to make fully reproduce the process of acquiring the same dataset that will be used in exploration and model training for this project. Nonetheless the steps will be outlined here for reference. A .csv file will be provided containing the data that is used for analysis and modeling for reproducibility.\n",
    "\n",
    "## Imports\n",
    "\n",
    "These are all the modules that we'll need to run the code in this notebook."
   ]
  },
  {
   "cell_type": "code",
   "execution_count": 1,
   "id": "7a5ede9c-d561-44b8-b77c-3239a2f0ad76",
   "metadata": {},
   "outputs": [],
   "source": [
    "# We'll need to add the modules directory path to sys.path since this is where all the .py files are located.\n",
    "\n",
    "import sys\n",
    "sys.path.append('../modules')"
   ]
  },
  {
   "cell_type": "code",
   "execution_count": 2,
   "id": "47ae2493-c3f1-4ef0-b964-a7648ff506f9",
   "metadata": {},
   "outputs": [],
   "source": [
    "# The Medium API will be used to acquire data.\n",
    "# Medium API Documentation: https://github.com/weeping-angel/medium-api\n",
    "\n",
    "# import pandas as pd\n",
    "from medium_api import Medium\n",
    "\n",
    "# We need an API key to use the Medium API. This can be acquired from rapidapi.com.\n",
    "# It is required to create an account and subscribe to the Medium API.\n",
    "# https://rapidapi.com/nishujain199719-vgIfuFHZxVZ/api/medium2/pricing\n",
    "\n",
    "from env import medium_api_key"
   ]
  },
  {
   "cell_type": "markdown",
   "id": "27db6ec3-9212-460f-b8b1-b69d180d87ec",
   "metadata": {},
   "source": [
    "## Acquire Article Data Using Medium API\n",
    "\n",
    "Information pending."
   ]
  },
  {
   "cell_type": "code",
   "execution_count": 5,
   "id": "41b10031-ea71-4502-973b-24bc1750a08d",
   "metadata": {},
   "outputs": [],
   "source": [
    "medium = Medium(medium_api_key)\n",
    "latestposts = medium.latestposts(topic_slug = 'artificial-intelligence')"
   ]
  },
  {
   "cell_type": "code",
   "execution_count": 20,
   "id": "ebe4042a-dc1c-4bc6-8955-0a36433a20a5",
   "metadata": {},
   "outputs": [
    {
     "data": {
      "text/plain": [
       "{'id': 'ee691585c10f',\n",
       " 'tags': ['reinforcement-learning',\n",
       "  'deep-learning',\n",
       "  'autonomous-cars',\n",
       "  'deep-q-learning',\n",
       "  'decision-making'],\n",
       " 'claps': 16,\n",
       " 'last_modified_at': '2022-07-01 19:01:47',\n",
       " 'published_at': '2022-06-29 14:00:46',\n",
       " 'url': 'https://medium.com/@marius_kiskemper/is-reinforcement-learning-suitable-for-autonomous-driving-ee691585c10f',\n",
       " 'image_url': 'https://miro.medium.com/0*O-yF1OGO9cXFqjRI.jpg',\n",
       " 'lang': 'en',\n",
       " 'publication_id': '*Self-Published*',\n",
       " 'title': 'Is Reinforcement Learning suitable for Autonomous Driving?',\n",
       " 'word_count': 3718,\n",
       " 'reading_time': 15.080188679245,\n",
       " 'voters': 2,\n",
       " 'topics': ['artificial-intelligence', 'machine-learning'],\n",
       " 'subtitle': 'The challenge of enabling autonomous driving can be broken down into two main parts. On the one hand there is the environmental perception…',\n",
       " 'author': 'f13c3e7ad924'}"
      ]
     },
     "execution_count": 20,
     "metadata": {},
     "output_type": "execute_result"
    }
   ],
   "source": [
    "latestposts.articles\n",
    "latestposts.articles[0].info"
   ]
  },
  {
   "cell_type": "code",
   "execution_count": 15,
   "id": "13cbac4e-c52b-4d99-a355-8d684c66cbe7",
   "metadata": {},
   "outputs": [
    {
     "data": {
      "text/plain": [
       "25"
      ]
     },
     "execution_count": 15,
     "metadata": {},
     "output_type": "execute_result"
    }
   ],
   "source": [
    "len(latestposts.articles)"
   ]
  },
  {
   "cell_type": "code",
   "execution_count": 17,
   "id": "87eca602-d35c-42f3-9fb6-3988deff8595",
   "metadata": {},
   "outputs": [],
   "source": [
    "publication = medium.publication(publication_id = 'f19413a43ae4')"
   ]
  },
  {
   "cell_type": "code",
   "execution_count": 18,
   "id": "92538986-bea2-4dd4-969b-85ac57fca834",
   "metadata": {},
   "outputs": [
    {
     "data": {
      "text/plain": [
       "{'instagram_username': 'mlearning.ai',\n",
       " 'tagline': 'Data Scientists must think like an artist 🟠 linktr.ee/mlearning',\n",
       " 'id': 'f19413a43ae4',\n",
       " 'tags': ['MACHINE LEARNING',\n",
       "  'ARTIFICIAL INTELLIGENCE',\n",
       "  'AI ART',\n",
       "  'DESIGN',\n",
       "  'DATA SCIENCE'],\n",
       " 'name': 'MLearning.ai',\n",
       " 'facebook_pagename': 'Art.Machine.Learning',\n",
       " 'description': 'Data Scientists must think like an artist when finding a solution when creating a piece of code. ⚪️ Artists enjoy working on interesting problems, even if there is no obvious answer ⚪️ linktr.ee/mlearning 🔵 Follow to join our 18K+ Unique DAILY Readers 🟠',\n",
       " 'url': None,\n",
       " 'slug': 'mlearning-ai',\n",
       " 'followers': 3986,\n",
       " 'twitter_username': 'Mlearning_ai'}"
      ]
     },
     "execution_count": 18,
     "metadata": {},
     "output_type": "execute_result"
    }
   ],
   "source": [
    "publication.info"
   ]
  },
  {
   "cell_type": "code",
   "execution_count": null,
   "id": "5d71f943-2a1f-4553-ab1c-50559b7efb50",
   "metadata": {},
   "outputs": [],
   "source": []
  }
 ],
 "metadata": {
  "kernelspec": {
   "display_name": "article_recommender_venv",
   "language": "python",
   "name": "article_recommender_venv"
  },
  "language_info": {
   "codemirror_mode": {
    "name": "ipython",
    "version": 3
   },
   "file_extension": ".py",
   "mimetype": "text/x-python",
   "name": "python",
   "nbconvert_exporter": "python",
   "pygments_lexer": "ipython3",
   "version": "3.9.7"
  }
 },
 "nbformat": 4,
 "nbformat_minor": 5
}
