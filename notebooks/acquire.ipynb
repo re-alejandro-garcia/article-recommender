{
 "cells": [
  {
   "cell_type": "markdown",
   "id": "5e977990-8c4e-412d-934d-b2e4a3efb319",
   "metadata": {},
   "source": [
    "# Acquiring Article Data\n",
    "\n",
    "In this notebook we'll go through the process of acquiring all the article data that will be used in this project. The steps outlined here will allow us to replicate the process of acquiring the data, but new articles are published every day making it difficult to make fully reproduce the process of acquiring the same dataset that will be used in exploration and model training for this project. Nonetheless the steps will be outlined here for reference. A .csv file will be provided containing the data that is used for analysis and modeling for reproducibility.\n",
    "\n",
    "## Imports\n",
    "\n",
    "These are all the modules that we'll need to run the code in this notebook."
   ]
  },
  {
   "cell_type": "code",
   "execution_count": 2,
   "id": "7a5ede9c-d561-44b8-b77c-3239a2f0ad76",
   "metadata": {},
   "outputs": [],
   "source": [
    "# We'll need to add the modules directory path to sys.path since this is where all the .py files are located.\n",
    "\n",
    "import sys\n",
    "sys.path.append('../modules')"
   ]
  },
  {
   "cell_type": "code",
   "execution_count": 20,
   "id": "47ae2493-c3f1-4ef0-b964-a7648ff506f9",
   "metadata": {},
   "outputs": [],
   "source": [
    "# The Medium API will be used to acquire data.\n",
    "# Medium API Documentation: https://github.com/weeping-angel/medium-api\n",
    "\n",
    "# import pandas as pd\n",
    "from medium_api import Medium\n",
    "\n",
    "# We need an API key to use the Medium API. This can be acquired from rapidapi.com.\n",
    "# It is required to create an account and subscribe to the Medium API.\n",
    "# https://rapidapi.com/nishujain199719-vgIfuFHZxVZ/api/medium2/pricing\n",
    "\n",
    "from env import medium_api_key\n",
    "\n",
    "# For timing the execution of cells.\n",
    "import time"
   ]
  },
  {
   "cell_type": "markdown",
   "id": "27db6ec3-9212-460f-b8b1-b69d180d87ec",
   "metadata": {},
   "source": [
    "## Acquire Article Data Using Medium API\n",
    "\n",
    "In this section we'll cover some of the functionality provided by the Medium API. We'll discover how to use it and what can and can't be done."
   ]
  },
  {
   "cell_type": "code",
   "execution_count": 4,
   "id": "722b0059-2c6c-48be-85c9-c82c6a433e38",
   "metadata": {},
   "outputs": [],
   "source": [
    "# First we need to create the Medium object with our API key, this will allow us to make calls to the API.\n",
    "\n",
    "medium = Medium(medium_api_key)"
   ]
  },
  {
   "cell_type": "code",
   "execution_count": 23,
   "id": "320a11c1-6b4e-40cf-9c5b-62cb924b890b",
   "metadata": {},
   "outputs": [],
   "source": [
    "# Now let's try getting the latestposts for a given topic. The latestposts function only allows specifying a \n",
    "# topic.\n",
    "\n",
    "latestposts = medium.latestposts(topic_slug = 'artificial-intelligence')"
   ]
  },
  {
   "cell_type": "code",
   "execution_count": 25,
   "id": "ebe4042a-dc1c-4bc6-8955-0a36433a20a5",
   "metadata": {},
   "outputs": [
    {
     "data": {
      "text/plain": [
       "{'id': '14f1ac7ec113',\n",
       " 'tags': ['smart-speaker',\n",
       "  'smartspeakersmarketshare',\n",
       "  'telegram',\n",
       "  'telegram-bot',\n",
       "  'voice-assistant'],\n",
       " 'claps': 0,\n",
       " 'last_modified_at': '2022-07-04 20:53:06',\n",
       " 'published_at': '2022-07-04 20:53:06',\n",
       " 'url': 'https://convcomp.it/could-telegram-be-a-competitor-of-voice-assistants-like-amazon-alexa-or-google-assistant-14f1ac7ec113',\n",
       " 'image_url': 'https://miro.medium.com/1*TyS9LOsSoh-506qWQURRlw.jpeg',\n",
       " 'lang': 'en',\n",
       " 'publication_id': 'e9c948ff6ebd',\n",
       " 'title': 'Could Telegram be a competitor of voice assistants, like Amazon Alexa or Google Assistant?',\n",
       " 'word_count': 2285,\n",
       " 'reading_time': 8.822641509434,\n",
       " 'voters': 0,\n",
       " 'topics': ['artificial-intelligence'],\n",
       " 'subtitle': 'An open letter to Pavel Durov, containing some change requests to enable voice integration into Telegram bots ecosystem',\n",
       " 'author': '452c0445f9d5'}"
      ]
     },
     "execution_count": 25,
     "metadata": {},
     "output_type": "execute_result"
    }
   ],
   "source": [
    "# Now let's look at the info for the first article in this list.\n",
    "\n",
    "latestposts.articles[0].info"
   ]
  },
  {
   "cell_type": "code",
   "execution_count": 11,
   "id": "dac407e5-218b-4888-b6be-ec6132f6bd30",
   "metadata": {},
   "outputs": [
    {
     "data": {
      "text/plain": [
       "{'id': 'fe99c68643a6',\n",
       " 'tags': ['metaverse', 'machine-learning', 'strategy', 'marketing', 'law'],\n",
       " 'claps': 0,\n",
       " 'last_modified_at': '2022-07-04 20:05:43',\n",
       " 'published_at': '2022-07-04 19:58:46',\n",
       " 'url': 'https://medium.com/@MetaverseLaw/metaverse-law-trends-via-machine-learning-fe99c68643a6',\n",
       " 'image_url': 'https://miro.medium.com/1*rta8P5wpi5-75cERsoJa2g.png',\n",
       " 'lang': 'en',\n",
       " 'publication_id': '*Self-Published*',\n",
       " 'title': 'Metaverse Law Trends via Machine Learning',\n",
       " 'word_count': 3814,\n",
       " 'reading_time': 15.742452830189,\n",
       " 'voters': 0,\n",
       " 'topics': ['artificial-intelligence'],\n",
       " 'subtitle': 'If you’re interested only in the machine learning discussion, please skip to the Machine Learning section.',\n",
       " 'author': '1506fccbdfe3'}"
      ]
     },
     "execution_count": 11,
     "metadata": {},
     "output_type": "execute_result"
    }
   ],
   "source": [
    "# Now the second article.\n",
    "\n",
    "latestposts.articles[1].info"
   ]
  },
  {
   "cell_type": "markdown",
   "id": "d2b60b30-52bd-42df-818a-1bab25045f62",
   "metadata": {},
   "source": [
    "There was a brief delay when grabbing the info for the articles. This makes me wonder if the API is lazy and makes the call only when necessary (in this case when we call info). If this is the case then using the API, on the free tier at least, will not be possible since we will likely expend the allotted monthly API calls very rapidly. Looking at the API usage stats (at RapidAPI) it seems like this is in fact the case.\n",
    "\n",
    "The documentation shows there is a fetch_articles function that may solve this issue. Let's try it."
   ]
  },
  {
   "cell_type": "code",
   "execution_count": 12,
   "id": "13cbac4e-c52b-4d99-a355-8d684c66cbe7",
   "metadata": {},
   "outputs": [],
   "source": [
    "# Grab the article data using fetch_articles, this function doesn't return anything, but will instead populate\n",
    "# the latestposts.articles list.\n",
    "\n",
    "medium.fetch_articles(latestposts.articles)"
   ]
  },
  {
   "cell_type": "code",
   "execution_count": 14,
   "id": "eab80362-54b1-4855-bb79-7352753bc631",
   "metadata": {},
   "outputs": [
    {
     "data": {
      "text/plain": [
       "25"
      ]
     },
     "execution_count": 14,
     "metadata": {},
     "output_type": "execute_result"
    }
   ],
   "source": [
    "len(latestposts.articles)"
   ]
  },
  {
   "cell_type": "code",
   "execution_count": 15,
   "id": "4fe6a927-c1a7-42b6-b036-c804c2b2d421",
   "metadata": {},
   "outputs": [
    {
     "data": {
      "text/plain": [
       "{'id': '14f1ac7ec113',\n",
       " 'tags': ['smart-speaker',\n",
       "  'smartspeakersmarketshare',\n",
       "  'telegram',\n",
       "  'telegram-bot',\n",
       "  'voice-assistant'],\n",
       " 'claps': 0,\n",
       " 'last_modified_at': '2022-07-04 20:53:06',\n",
       " 'published_at': '2022-07-04 20:53:06',\n",
       " 'url': 'https://convcomp.it/could-telegram-be-a-competitor-of-voice-assistants-like-amazon-alexa-or-google-assistant-14f1ac7ec113',\n",
       " 'image_url': 'https://miro.medium.com/1*TyS9LOsSoh-506qWQURRlw.jpeg',\n",
       " 'lang': 'en',\n",
       " 'publication_id': 'e9c948ff6ebd',\n",
       " 'title': 'Could Telegram be a competitor of voice assistants, like Amazon Alexa or Google Assistant?',\n",
       " 'word_count': 2285,\n",
       " 'reading_time': 8.822641509434,\n",
       " 'voters': 0,\n",
       " 'topics': ['artificial-intelligence'],\n",
       " 'subtitle': 'An open letter to Pavel Durov, containing some change requests to enable voice integration into Telegram bots ecosystem',\n",
       " 'author': '452c0445f9d5'}"
      ]
     },
     "execution_count": 15,
     "metadata": {},
     "output_type": "execute_result"
    }
   ],
   "source": [
    "# Now let's try getting the info for a few articles again.\n",
    "\n",
    "latestposts.articles[0].info"
   ]
  },
  {
   "cell_type": "code",
   "execution_count": 16,
   "id": "dc59f88c-536f-4597-9b53-c4db9a842359",
   "metadata": {},
   "outputs": [
    {
     "data": {
      "text/plain": [
       "{'id': '65de5d04c475',\n",
       " 'tags': ['artificial-intelligence',\n",
       "  'machine-learning',\n",
       "  'data-science',\n",
       "  'automation',\n",
       "  'future'],\n",
       " 'claps': 250,\n",
       " 'last_modified_at': '2022-07-04 13:10:28',\n",
       " 'published_at': '2022-07-04 12:26:24',\n",
       " 'url': 'https://medium.com/gdg-vit/ai-automation-and-the-future-of-workplaces-65de5d04c475',\n",
       " 'image_url': 'https://miro.medium.com/1*b0ig8NZnu7GBr2tZG0xnsg.png',\n",
       " 'lang': 'en',\n",
       " 'publication_id': '7ebddf9721d',\n",
       " 'title': 'AI, Automation, and the Future of Workplaces',\n",
       " 'word_count': 1590,\n",
       " 'reading_time': 6.8333333333333,\n",
       " 'voters': 5,\n",
       " 'topics': ['artificial-intelligence'],\n",
       " 'subtitle': 'Introduction',\n",
       " 'author': '15c03e4e1b20'}"
      ]
     },
     "execution_count": 16,
     "metadata": {},
     "output_type": "execute_result"
    }
   ],
   "source": [
    "latestposts.articles[10].info"
   ]
  },
  {
   "cell_type": "markdown",
   "id": "bfa7f277-7a9c-4c6d-9cb0-4e33c9dfe820",
   "metadata": {},
   "source": [
    "There is no longer a delay when getting the article info, but the API usage stats (at RapidAPI) confirm that running the fetch_articles functions made 25 API calls.\n",
    "\n",
    "### Takeaways\n",
    "\n",
    "Using the API would definitely make things easier, but it comes with some very significant limitations. First from the work done above we can see that for each article we collect data on the API will make a call. This means that if, for instance, we wanted to get the latest 25 articles for 5 different topics this would amount to 125 API calls which is half the monthly allotment of 250. Even using a smarter algorithm to ensure we don't make more calls than necessary we would still probably expend the monthly free tier allotment within a week.\n",
    "\n",
    "Switching to a paid tier is an option. The next tier up would cost 4.99 per month and give 1,250 API calls per month. This might be enough, but it comes with the downside of having to pay for the API. Not to mention that it might possibly still not be enough calls as the application begins to scale to a larger size. The API with the free tier would probably be good enough if this application was kept to a small scope, such as only pulling article data for 2 or 3 different topics. This would not make for a very useful application though so we may need to explore alternative solutions.\n",
    "\n",
    "It might be worthwhile to design and build a package that utilizes the API just in case later on it is discovered that the API is necessary.\n",
    "\n",
    "## Acquiring Article Data Through Web Scraping\n",
    "\n",
    "Let's now try pulling the data we need with web scraping techniques. We'll use Beautiful Soup to accomplish this."
   ]
  },
  {
   "cell_type": "code",
   "execution_count": null,
   "id": "5d71f943-2a1f-4553-ab1c-50559b7efb50",
   "metadata": {},
   "outputs": [],
   "source": []
  }
 ],
 "metadata": {
  "kernelspec": {
   "display_name": "article_recommender_venv",
   "language": "python",
   "name": "article_recommender_venv"
  },
  "language_info": {
   "codemirror_mode": {
    "name": "ipython",
    "version": 3
   },
   "file_extension": ".py",
   "mimetype": "text/x-python",
   "name": "python",
   "nbconvert_exporter": "python",
   "pygments_lexer": "ipython3",
   "version": "3.9.7"
  }
 },
 "nbformat": 4,
 "nbformat_minor": 5
}
