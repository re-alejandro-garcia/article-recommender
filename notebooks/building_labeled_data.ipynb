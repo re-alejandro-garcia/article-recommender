{
 "cells": [
  {
   "cell_type": "markdown",
   "id": "55864525-3452-427f-b352-874bae2207cf",
   "metadata": {},
   "source": [
    "# Building a Labeled Dataset\n",
    "\n",
    "In this notebook we'll go through the steps of building the dataset that will be used to train and test the recommendation model. We will want to have a variety of article data in order to obtain the best results possible.\n",
    "\n",
    "## Imports\n",
    "\n",
    "These are the modules we'll need to run the code in this notebook."
   ]
  },
  {
   "cell_type": "code",
   "execution_count": 1,
   "id": "487da24c-c7ed-4f34-ac77-b540de93ac7d",
   "metadata": {},
   "outputs": [],
   "source": [
    "# We'll need to add the modules directory path to sys.path since this is where all the .py files are located.\n",
    "\n",
    "import sys\n",
    "sys.path.append('../modules')"
   ]
  },
  {
   "cell_type": "code",
   "execution_count": 2,
   "id": "81e6a71b-b827-41f7-b7e6-ec29992d19f8",
   "metadata": {},
   "outputs": [],
   "source": [
    "import numpy as np\n",
    "import pandas as pd\n",
    "import requests\n",
    "\n",
    "# The Medium API will be used to acquire data.\n",
    "# Medium API Documentation: https://github.com/weeping-angel/medium-api\n",
    "\n",
    "from medium_api import Medium\n",
    "\n",
    "# The News API will be used to acquire data from a large variety of sources.\n",
    "# News API Documentation: https://newsapi.org/docs\n",
    "\n",
    "from newsapi import NewsApiClient\n",
    "\n",
    "# We need an API key to use the Medium API. This can be acquired from rapidapi.com.\n",
    "# It is required to create an account and subscribe to the Medium API.\n",
    "# https://rapidapi.com/nishujain199719-vgIfuFHZxVZ/api/medium2/pricing\n",
    "\n",
    "from env import medium_api_key, news_api_key"
   ]
  },
  {
   "cell_type": "markdown",
   "id": "3784200b-d669-4aa4-8f78-e4bb1613913e",
   "metadata": {},
   "source": [
    "## What Data do we Need?\n",
    "\n",
    "At the time of writing this I have two sources of data: Medium (web scraping and API) and News API. We're going to be building two separate models: one to label the topic of each article and another to recommend articles based on a user's preferences. The Medium API allows us to get the topic label for each article so we'll use this API to build a dataset with topic labels. To create a good balance we'll use both the Medium and News APIs to build a dataset of articles that will be labeled with user preferences.\n",
    "\n",
    "Labeling the user preferences is going to be a time consuming process. These labels will be created manually by having different users simply go through the dataset and choose which articles they would find interesting to read. This process obviously won't be shown here, but the final result can be seen in the exploration notebook.\n",
    "\n",
    "## Building the Topic Label Dataset\n",
    "\n",
    "In this section we'll go over the steps involved in using the Medium API to build a dataset of articles labeled with topics that each article is categorized under. First though, we must decide on a list of broad topics to cover. We will certainly not be able to cover all the possible topics that could be labeled, but we want to try to cover a wide range of topics. It will be important to keep in mind that we will need to take measures to continue to re-train the topic labeling model periodically in order to be capable of labeling topics that for now will be unseen. For now we'll gather articles covering the following topics:\n",
    "\n",
    "1. data science\n",
    "1. machine learning\n",
    "1. programming\n",
    "1. python\n",
    "1. javascript\n",
    "1. social media\n",
    "1. self\n",
    "1. self-improvement\n",
    "1. philosophy\n",
    "1. gaming\n",
    "1. politics\n",
    "1. health\n",
    "1. psychology\n",
    "1. work\n",
    "1. productivity\n",
    "1. parenting\n",
    "1. history\n",
    "1. cryptocurrency\n",
    "1. science\n",
    "1. relationships\n",
    "1. food\n",
    "1. technology\n",
    "1. business\n",
    "1. astronomy\n",
    "1. space\n",
    "\n",
    "Again this is obviously not a comprehensive list of topic categories, but it will provide a good starting point and most importantly will help in exploration to determine what relates articles in each topic category to each other. Here we have 25 different topics. We'll grab 10 articles for each topic. We'll simply grab the latest articles published."
   ]
  },
  {
   "cell_type": "code",
   "execution_count": 16,
   "id": "adf40ef8-f0ae-49a5-9053-6fbc76a7f430",
   "metadata": {},
   "outputs": [],
   "source": [
    "# Let's start by creating a set for all the topics we'll be using.\n",
    "\n",
    "topics = {\n",
    "    \"data-science\",\n",
    "    \"machine-learning\",\n",
    "    \"programming\",\n",
    "    \"python\",\n",
    "    \"javascript\",\n",
    "    \"social-media\",\n",
    "    \"self\",\n",
    "    \"self-improvement\",\n",
    "    \"philosophy\",\n",
    "    \"gaming\",\n",
    "    \"politics\",\n",
    "    \"health\",\n",
    "    \"psychology\",\n",
    "    \"work\",\n",
    "    \"productivity\",\n",
    "    \"parenting\",\n",
    "    \"history\",\n",
    "    \"cryptocurrency\",\n",
    "    \"science\",\n",
    "    \"relationships\",\n",
    "    \"food\",\n",
    "    \"technology\",\n",
    "    \"business\",\n",
    "    \"astronomy\",\n",
    "    \"space\"\n",
    "}"
   ]
  },
  {
   "cell_type": "code",
   "execution_count": 3,
   "id": "b48673d0-9545-4648-a716-71f352a16f68",
   "metadata": {},
   "outputs": [],
   "source": [
    "# Now we start by creating the Medium API object using the API key.\n",
    "\n",
    "medium = Medium(medium_api_key)"
   ]
  },
  {
   "cell_type": "code",
   "execution_count": 18,
   "id": "2c1b5e24-83d9-4111-940c-303191851079",
   "metadata": {},
   "outputs": [],
   "source": [
    "# Now we're loop through each topic and build a list containing the article data for 10 articles for each topic.\n",
    "# We'll use the topfeeds endpoint which will allow us to grab the latest articles for a given tag.\n",
    "\n",
    "article_info = []\n",
    "\n",
    "for topic in topics:\n",
    "    latest_articles = medium.topfeeds(tag = topic, mode = 'new')\n",
    "    \n",
    "    for n in range(10):\n",
    "        article_info.append(latest_articles.articles[n].info)"
   ]
  },
  {
   "cell_type": "code",
   "execution_count": 23,
   "id": "201e1d9c-9242-4350-be4d-ed23f260c6f2",
   "metadata": {},
   "outputs": [
    {
     "data": {
      "text/plain": [
       "250"
      ]
     },
     "execution_count": 23,
     "metadata": {},
     "output_type": "execute_result"
    }
   ],
   "source": [
    "len(article_info)"
   ]
  },
  {
   "cell_type": "code",
   "execution_count": 24,
   "id": "d382a9af-e744-4a8c-8490-71619708bc9b",
   "metadata": {},
   "outputs": [
    {
     "data": {
      "text/plain": [
       "{'id': '4496b66cc0d9',\n",
       " 'tags': ['programming',\n",
       "  'software-development',\n",
       "  'python',\n",
       "  'javascript',\n",
       "  'java'],\n",
       " 'claps': 0,\n",
       " 'last_modified_at': '2022-07-13 21:46:25',\n",
       " 'published_at': '2022-07-13 21:46:25',\n",
       " 'url': 'https://md-kamaruzzaman.medium.com/top-10-in-demand-programming-languages-to-learn-in-2022-4496b66cc0d9',\n",
       " 'image_url': 'https://miro.medium.com/1*N0FoWAh_s1qr53MflgqJFg.jpeg',\n",
       " 'lang': 'en',\n",
       " 'publication_id': '*Self-Published*',\n",
       " 'title': 'Top 10 In-Demand programming languages to learn in 2022',\n",
       " 'word_count': 4208,\n",
       " 'reading_time': 20.629245283019,\n",
       " 'voters': 0,\n",
       " 'topics': {},\n",
       " 'subtitle': 'Python, Java, JavaScript, C, C#, C++, Swift, PHP, Go, Rust',\n",
       " 'author': 'df4b39a6f082'}"
      ]
     },
     "execution_count": 24,
     "metadata": {},
     "output_type": "execute_result"
    }
   ],
   "source": [
    "article_info[0]"
   ]
  },
  {
   "cell_type": "markdown",
   "id": "d8db9c14-43e9-43d5-9d69-e1781264d1e3",
   "metadata": {},
   "source": [
    "So now we have the article info for all the articles we pulled from the API. Let's now put this all in a dataframe with the data we want so that this information can be saved to a file."
   ]
  },
  {
   "cell_type": "code",
   "execution_count": 25,
   "id": "8a56566b-aafd-47bc-8550-4e4984ce75a4",
   "metadata": {},
   "outputs": [
    {
     "data": {
      "text/html": [
       "<div>\n",
       "<style scoped>\n",
       "    .dataframe tbody tr th:only-of-type {\n",
       "        vertical-align: middle;\n",
       "    }\n",
       "\n",
       "    .dataframe tbody tr th {\n",
       "        vertical-align: top;\n",
       "    }\n",
       "\n",
       "    .dataframe thead th {\n",
       "        text-align: right;\n",
       "    }\n",
       "</style>\n",
       "<table border=\"1\" class=\"dataframe\">\n",
       "  <thead>\n",
       "    <tr style=\"text-align: right;\">\n",
       "      <th></th>\n",
       "      <th>author</th>\n",
       "      <th>publication</th>\n",
       "      <th>title</th>\n",
       "      <th>subtitle</th>\n",
       "      <th>date</th>\n",
       "      <th>word_count</th>\n",
       "      <th>read_time</th>\n",
       "      <th>url</th>\n",
       "      <th>tags</th>\n",
       "      <th>topics</th>\n",
       "      <th>lang</th>\n",
       "    </tr>\n",
       "  </thead>\n",
       "  <tbody>\n",
       "    <tr>\n",
       "      <th>0</th>\n",
       "      <td>df4b39a6f082</td>\n",
       "      <td>*Self-Published*</td>\n",
       "      <td>Top 10 In-Demand programming languages to lear...</td>\n",
       "      <td>Python, Java, JavaScript, C, C#, C++, Swift, P...</td>\n",
       "      <td>2022-07-13 21:46:25</td>\n",
       "      <td>4208.0</td>\n",
       "      <td>21.0</td>\n",
       "      <td>https://md-kamaruzzaman.medium.com/top-10-in-d...</td>\n",
       "      <td>[programming, software-development, python, ja...</td>\n",
       "      <td>{}</td>\n",
       "      <td>en</td>\n",
       "    </tr>\n",
       "    <tr>\n",
       "      <th>1</th>\n",
       "      <td>5015c1b2b3a</td>\n",
       "      <td>*Self-Published*</td>\n",
       "      <td>Cheat Sheet: Importing and exporting all file ...</td>\n",
       "      <td>Hi everyone! In this post we’ll review how to ...</td>\n",
       "      <td>2022-07-13 21:39:33</td>\n",
       "      <td>47.0</td>\n",
       "      <td>0.0</td>\n",
       "      <td>https://medium.com/@datawithdan/cheat-sheet-im...</td>\n",
       "      <td>[python, data, data-science, sql, pandas]</td>\n",
       "      <td>[programming]</td>\n",
       "      <td>en</td>\n",
       "    </tr>\n",
       "    <tr>\n",
       "      <th>2</th>\n",
       "      <td>c5f0ad9001fd</td>\n",
       "      <td>*Self-Published*</td>\n",
       "      <td>Python Packages That Apple Uses</td>\n",
       "      <td>Welcome back! Python is an awesome programming...</td>\n",
       "      <td>2022-07-13 21:22:54</td>\n",
       "      <td>572.0</td>\n",
       "      <td>2.0</td>\n",
       "      <td>https://preettheman.medium.com/python-packages...</td>\n",
       "      <td>[python, programming, coding, software-develop...</td>\n",
       "      <td>[programming]</td>\n",
       "      <td>en</td>\n",
       "    </tr>\n",
       "    <tr>\n",
       "      <th>3</th>\n",
       "      <td>1253d637b2a0</td>\n",
       "      <td>7f60cf5620c9</td>\n",
       "      <td>An Easy Introduction to NumPy Arrays</td>\n",
       "      <td>What, How, and Why.</td>\n",
       "      <td>2022-07-13 20:51:17</td>\n",
       "      <td>866.0</td>\n",
       "      <td>3.0</td>\n",
       "      <td>https://towardsdatascience.com/an-easy-introdu...</td>\n",
       "      <td>[numpy, arrays, python, data-science, programm...</td>\n",
       "      <td>[data-science, programming]</td>\n",
       "      <td>en</td>\n",
       "    </tr>\n",
       "    <tr>\n",
       "      <th>4</th>\n",
       "      <td>23fec7404e6a</td>\n",
       "      <td>*Self-Published*</td>\n",
       "      <td>Alternative Method to Choose the Right Machine...</td>\n",
       "      <td>In this article, I will introduce you to a spe...</td>\n",
       "      <td>2022-07-13 19:59:23</td>\n",
       "      <td>1421.0</td>\n",
       "      <td>6.0</td>\n",
       "      <td>https://medium.com/@gromdimon/alternative-meth...</td>\n",
       "      <td>[machine-learning, python, computer-science, a...</td>\n",
       "      <td>[machine-learning]</td>\n",
       "      <td>en</td>\n",
       "    </tr>\n",
       "    <tr>\n",
       "      <th>...</th>\n",
       "      <td>...</td>\n",
       "      <td>...</td>\n",
       "      <td>...</td>\n",
       "      <td>...</td>\n",
       "      <td>...</td>\n",
       "      <td>...</td>\n",
       "      <td>...</td>\n",
       "      <td>...</td>\n",
       "      <td>...</td>\n",
       "      <td>...</td>\n",
       "      <td>...</td>\n",
       "    </tr>\n",
       "    <tr>\n",
       "      <th>245</th>\n",
       "      <td>87d4eb341b4c</td>\n",
       "      <td>*Self-Published*</td>\n",
       "      <td>AI Art. The new kid on the block.</td>\n",
       "      <td>It sounds like science fiction, but it isn’t —...</td>\n",
       "      <td>2022-07-13 22:04:08</td>\n",
       "      <td>257.0</td>\n",
       "      <td>1.0</td>\n",
       "      <td>https://medium.com/@farhadtahmazovsoc_82646/ai...</td>\n",
       "      <td>[technology, business, entrepreneurship, desig...</td>\n",
       "      <td>[artificial-intelligence]</td>\n",
       "      <td>en</td>\n",
       "    </tr>\n",
       "    <tr>\n",
       "      <th>246</th>\n",
       "      <td>79bd9219e935</td>\n",
       "      <td>*Self-Published*</td>\n",
       "      <td>There Is More To Ideation Events Than Ideas</td>\n",
       "      <td>There is an immense amount of value and opport...</td>\n",
       "      <td>2022-07-13 21:52:05</td>\n",
       "      <td>2411.0</td>\n",
       "      <td>9.0</td>\n",
       "      <td>https://medium.com/@JPrefontaine/there-is-more...</td>\n",
       "      <td>[innovation, hackathons, business, ideas, cult...</td>\n",
       "      <td>[startups]</td>\n",
       "      <td>en</td>\n",
       "    </tr>\n",
       "    <tr>\n",
       "      <th>247</th>\n",
       "      <td>782b5907b5bb</td>\n",
       "      <td>29bf33e1ca19</td>\n",
       "      <td>What is Standard Costing and How Does It Work</td>\n",
       "      <td>Standard costing uses predetermined costs for ...</td>\n",
       "      <td>2022-07-13 21:51:53</td>\n",
       "      <td>1542.0</td>\n",
       "      <td>7.0</td>\n",
       "      <td>https://medium.com/magnimetrics/what-is-standa...</td>\n",
       "      <td>[manufacturing, standard-costing, variance-ana...</td>\n",
       "      <td>[data-science]</td>\n",
       "      <td>en</td>\n",
       "    </tr>\n",
       "    <tr>\n",
       "      <th>248</th>\n",
       "      <td>2e309864aa63</td>\n",
       "      <td>*Self-Published*</td>\n",
       "      <td>15 Proven Ways To Stop Your Self Sabotage</td>\n",
       "      <td>Thomas Edison failed more than 1000 times whil...</td>\n",
       "      <td>2022-07-13 21:44:12</td>\n",
       "      <td>2376.0</td>\n",
       "      <td>9.0</td>\n",
       "      <td>https://medium.com/@alux.com/15-proven-ways-to...</td>\n",
       "      <td>[self-improvement, productivity, mindfulness, ...</td>\n",
       "      <td>[self]</td>\n",
       "      <td>en</td>\n",
       "    </tr>\n",
       "    <tr>\n",
       "      <th>249</th>\n",
       "      <td>113d9046a0ca</td>\n",
       "      <td>*Self-Published*</td>\n",
       "      <td>When &amp; How To Negotiate Salary</td>\n",
       "      <td>Including steps and instructions!</td>\n",
       "      <td>2022-07-13 21:38:18</td>\n",
       "      <td>1562.0</td>\n",
       "      <td>6.0</td>\n",
       "      <td>https://jyssicaschwartz.medium.com/when-how-to...</td>\n",
       "      <td>[money, business, negotiation, life, mindfulness]</td>\n",
       "      <td>[work]</td>\n",
       "      <td>en</td>\n",
       "    </tr>\n",
       "  </tbody>\n",
       "</table>\n",
       "<p>250 rows × 11 columns</p>\n",
       "</div>"
      ],
      "text/plain": [
       "           author       publication  \\\n",
       "0    df4b39a6f082  *Self-Published*   \n",
       "1     5015c1b2b3a  *Self-Published*   \n",
       "2    c5f0ad9001fd  *Self-Published*   \n",
       "3    1253d637b2a0      7f60cf5620c9   \n",
       "4    23fec7404e6a  *Self-Published*   \n",
       "..            ...               ...   \n",
       "245  87d4eb341b4c  *Self-Published*   \n",
       "246  79bd9219e935  *Self-Published*   \n",
       "247  782b5907b5bb      29bf33e1ca19   \n",
       "248  2e309864aa63  *Self-Published*   \n",
       "249  113d9046a0ca  *Self-Published*   \n",
       "\n",
       "                                                 title  \\\n",
       "0    Top 10 In-Demand programming languages to lear...   \n",
       "1    Cheat Sheet: Importing and exporting all file ...   \n",
       "2                      Python Packages That Apple Uses   \n",
       "3                 An Easy Introduction to NumPy Arrays   \n",
       "4    Alternative Method to Choose the Right Machine...   \n",
       "..                                                 ...   \n",
       "245                  AI Art. The new kid on the block.   \n",
       "246        There Is More To Ideation Events Than Ideas   \n",
       "247      What is Standard Costing and How Does It Work   \n",
       "248          15 Proven Ways To Stop Your Self Sabotage   \n",
       "249                     When & How To Negotiate Salary   \n",
       "\n",
       "                                              subtitle                 date  \\\n",
       "0    Python, Java, JavaScript, C, C#, C++, Swift, P...  2022-07-13 21:46:25   \n",
       "1    Hi everyone! In this post we’ll review how to ...  2022-07-13 21:39:33   \n",
       "2    Welcome back! Python is an awesome programming...  2022-07-13 21:22:54   \n",
       "3                                  What, How, and Why.  2022-07-13 20:51:17   \n",
       "4    In this article, I will introduce you to a spe...  2022-07-13 19:59:23   \n",
       "..                                                 ...                  ...   \n",
       "245  It sounds like science fiction, but it isn’t —...  2022-07-13 22:04:08   \n",
       "246  There is an immense amount of value and opport...  2022-07-13 21:52:05   \n",
       "247  Standard costing uses predetermined costs for ...  2022-07-13 21:51:53   \n",
       "248  Thomas Edison failed more than 1000 times whil...  2022-07-13 21:44:12   \n",
       "249                  Including steps and instructions!  2022-07-13 21:38:18   \n",
       "\n",
       "     word_count  read_time                                                url  \\\n",
       "0        4208.0       21.0  https://md-kamaruzzaman.medium.com/top-10-in-d...   \n",
       "1          47.0        0.0  https://medium.com/@datawithdan/cheat-sheet-im...   \n",
       "2         572.0        2.0  https://preettheman.medium.com/python-packages...   \n",
       "3         866.0        3.0  https://towardsdatascience.com/an-easy-introdu...   \n",
       "4        1421.0        6.0  https://medium.com/@gromdimon/alternative-meth...   \n",
       "..          ...        ...                                                ...   \n",
       "245       257.0        1.0  https://medium.com/@farhadtahmazovsoc_82646/ai...   \n",
       "246      2411.0        9.0  https://medium.com/@JPrefontaine/there-is-more...   \n",
       "247      1542.0        7.0  https://medium.com/magnimetrics/what-is-standa...   \n",
       "248      2376.0        9.0  https://medium.com/@alux.com/15-proven-ways-to...   \n",
       "249      1562.0        6.0  https://jyssicaschwartz.medium.com/when-how-to...   \n",
       "\n",
       "                                                  tags  \\\n",
       "0    [programming, software-development, python, ja...   \n",
       "1            [python, data, data-science, sql, pandas]   \n",
       "2    [python, programming, coding, software-develop...   \n",
       "3    [numpy, arrays, python, data-science, programm...   \n",
       "4    [machine-learning, python, computer-science, a...   \n",
       "..                                                 ...   \n",
       "245  [technology, business, entrepreneurship, desig...   \n",
       "246  [innovation, hackathons, business, ideas, cult...   \n",
       "247  [manufacturing, standard-costing, variance-ana...   \n",
       "248  [self-improvement, productivity, mindfulness, ...   \n",
       "249  [money, business, negotiation, life, mindfulness]   \n",
       "\n",
       "                          topics lang  \n",
       "0                             {}   en  \n",
       "1                  [programming]   en  \n",
       "2                  [programming]   en  \n",
       "3    [data-science, programming]   en  \n",
       "4             [machine-learning]   en  \n",
       "..                           ...  ...  \n",
       "245    [artificial-intelligence]   en  \n",
       "246                   [startups]   en  \n",
       "247               [data-science]   en  \n",
       "248                       [self]   en  \n",
       "249                       [work]   en  \n",
       "\n",
       "[250 rows x 11 columns]"
      ]
     },
     "execution_count": 25,
     "metadata": {},
     "output_type": "execute_result"
    }
   ],
   "source": [
    "articles = pd.DataFrame({\n",
    "    'author' : [],\n",
    "    'publication' : [],\n",
    "    'title' : [],\n",
    "    'subtitle' : [],\n",
    "    'date' : [],\n",
    "    'word_count' : [],\n",
    "    'read_time' : [],\n",
    "    'url' : [],\n",
    "    'tags' : [],\n",
    "    'topics' : [],\n",
    "    'lang' : []\n",
    "})\n",
    "\n",
    "for article in article_info:\n",
    "    info = {}\n",
    "    \n",
    "    info['author'] = [article['author']]\n",
    "    info['publication'] = [article['publication_id']]\n",
    "    info['title'] = [article['title']]\n",
    "    info['subtitle'] = [article['subtitle']]\n",
    "    info['date'] = [article['published_at']]\n",
    "    info['word_count'] = [article['word_count']]\n",
    "    info['read_time'] = [round(article['reading_time'], 0)]\n",
    "    info['url'] = [article['url']]\n",
    "    info['tags'] = [article['tags']]\n",
    "    info['topics'] = [article['topics']]\n",
    "    info['lang'] = [article['lang']]\n",
    "    \n",
    "    temp = pd.DataFrame(info)\n",
    "    articles = pd.concat([articles, temp]).reset_index(drop = True)\n",
    "\n",
    "articles"
   ]
  },
  {
   "cell_type": "code",
   "execution_count": 26,
   "id": "a3231353-35c5-473b-bcf7-87fdfb70b87e",
   "metadata": {},
   "outputs": [],
   "source": [
    "articles.to_csv('../data/articles-with-topic-label.csv', index = False)"
   ]
  },
  {
   "cell_type": "markdown",
   "id": "1ba6b223-d9f7-4d88-a146-def79add754a",
   "metadata": {},
   "source": [
    "### LatestPosts Error\n",
    "\n",
    "This is an error being thrown by the Medium API."
   ]
  },
  {
   "cell_type": "code",
   "execution_count": 20,
   "id": "4642e342-ae7c-4d61-b5ea-f27c74c1d9f9",
   "metadata": {},
   "outputs": [],
   "source": [
    "latestposts = medium.latestposts(topic_slug = 'astronomy')"
   ]
  },
  {
   "cell_type": "code",
   "execution_count": 21,
   "id": "eb745530-db02-4e96-858e-d24ea7c69010",
   "metadata": {},
   "outputs": [
    {
     "name": "stdout",
     "output_type": "stream",
     "text": [
      "[ERROR]: Response: {'error': 'API is working but something unexpected occured. Please check your input!'}\n"
     ]
    },
    {
     "ename": "KeyError",
     "evalue": "'latestposts'",
     "output_type": "error",
     "traceback": [
      "\u001b[0;31m---------------------------------------------------------------------------\u001b[0m",
      "\u001b[0;31mKeyError\u001b[0m                                  Traceback (most recent call last)",
      "Input \u001b[0;32mIn [21]\u001b[0m, in \u001b[0;36m<cell line: 1>\u001b[0;34m()\u001b[0m\n\u001b[0;32m----> 1\u001b[0m \u001b[43mlatestposts\u001b[49m\u001b[38;5;241;43m.\u001b[39;49m\u001b[43marticles\u001b[49m[\u001b[38;5;241m4\u001b[39m]\u001b[38;5;241m.\u001b[39minfo\n",
      "File \u001b[0;32m~/Repositories/article-recommender/article_recommender_venv/lib/python3.9/site-packages/medium_api/_latestposts.py:55\u001b[0m, in \u001b[0;36mLatestPosts.articles\u001b[0;34m(self)\u001b[0m\n\u001b[1;32m     48\u001b[0m \u001b[38;5;28;01mfrom\u001b[39;00m \u001b[38;5;21;01mmedium_api\u001b[39;00m\u001b[38;5;21;01m.\u001b[39;00m\u001b[38;5;21;01m_article\u001b[39;00m \u001b[38;5;28;01mimport\u001b[39;00m Article\n\u001b[1;32m     50\u001b[0m \u001b[38;5;28;01mif\u001b[39;00m \u001b[38;5;28mself\u001b[39m\u001b[38;5;241m.\u001b[39m__posts \u001b[38;5;129;01mis\u001b[39;00m \u001b[38;5;28;01mNone\u001b[39;00m:\n\u001b[1;32m     51\u001b[0m     \u001b[38;5;28mself\u001b[39m\u001b[38;5;241m.\u001b[39m__posts \u001b[38;5;241m=\u001b[39m [Article(article_id\u001b[38;5;241m=\u001b[39marticle_id, \n\u001b[1;32m     52\u001b[0m                             get_resp\u001b[38;5;241m=\u001b[39m\u001b[38;5;28mself\u001b[39m\u001b[38;5;241m.\u001b[39m__get_resp, \n\u001b[1;32m     53\u001b[0m                             fetch_articles\u001b[38;5;241m=\u001b[39m\u001b[38;5;28mself\u001b[39m\u001b[38;5;241m.\u001b[39m__fetch_articles,\n\u001b[1;32m     54\u001b[0m                             save_info\u001b[38;5;241m=\u001b[39m\u001b[38;5;28;01mFalse\u001b[39;00m) \n\u001b[0;32m---> 55\u001b[0m                     \u001b[38;5;28;01mfor\u001b[39;00m article_id \u001b[38;5;129;01min\u001b[39;00m \u001b[38;5;28;43mself\u001b[39;49m\u001b[38;5;241;43m.\u001b[39;49m\u001b[43mids\u001b[49m]\n\u001b[1;32m     57\u001b[0m \u001b[38;5;28;01mreturn\u001b[39;00m \u001b[38;5;28mself\u001b[39m\u001b[38;5;241m.\u001b[39m__posts\n",
      "File \u001b[0;32m~/Repositories/article-recommender/article_recommender_venv/lib/python3.9/site-packages/medium_api/_latestposts.py:37\u001b[0m, in \u001b[0;36mLatestPosts.ids\u001b[0;34m(self)\u001b[0m\n\u001b[1;32m     35\u001b[0m \u001b[38;5;28;01mif\u001b[39;00m \u001b[38;5;28mself\u001b[39m\u001b[38;5;241m.\u001b[39m__ids \u001b[38;5;129;01mis\u001b[39;00m \u001b[38;5;28;01mNone\u001b[39;00m:\n\u001b[1;32m     36\u001b[0m     resp, _ \u001b[38;5;241m=\u001b[39m \u001b[38;5;28mself\u001b[39m\u001b[38;5;241m.\u001b[39m__get_resp(\u001b[38;5;124mf\u001b[39m\u001b[38;5;124m'\u001b[39m\u001b[38;5;124m/latestposts/\u001b[39m\u001b[38;5;132;01m{\u001b[39;00m\u001b[38;5;28mself\u001b[39m\u001b[38;5;241m.\u001b[39mtopic_slug\u001b[38;5;132;01m}\u001b[39;00m\u001b[38;5;124m'\u001b[39m)\n\u001b[0;32m---> 37\u001b[0m     \u001b[38;5;28mself\u001b[39m\u001b[38;5;241m.\u001b[39m__ids \u001b[38;5;241m=\u001b[39m \u001b[38;5;28mlist\u001b[39m(\u001b[43mresp\u001b[49m\u001b[43m[\u001b[49m\u001b[38;5;124;43m'\u001b[39;49m\u001b[38;5;124;43mlatestposts\u001b[39;49m\u001b[38;5;124;43m'\u001b[39;49m\u001b[43m]\u001b[49m)\n\u001b[1;32m     39\u001b[0m \u001b[38;5;28;01mreturn\u001b[39;00m \u001b[38;5;28mself\u001b[39m\u001b[38;5;241m.\u001b[39m__ids\n",
      "\u001b[0;31mKeyError\u001b[0m: 'latestposts'"
     ]
    }
   ],
   "source": [
    "latestposts.articles[4].info"
   ]
  },
  {
   "cell_type": "markdown",
   "id": "fcfcc288-fd49-45ac-a963-e355fce0753a",
   "metadata": {},
   "source": [
    "In location 'medium-api/src/medium_api/medium.py' line 82 is what is causing the error. This line returns an empty dictionary as the response which then on line 37 in 'medium-api/src/medium_api/_latestposts.py' when trying to call \n",
    "\n",
    "```python\n",
    "resp['latestposts']\n",
    "```\n",
    "\n",
    "a KeyError is raised because the dictionary is empty. The status for the call is 200, but an error in the json data forces the \n",
    "\n",
    "```python\n",
    "__get_resp()\n",
    "```\n",
    "\n",
    "function to attempt to re-try the call which is only allowed up to 3 times. I'll need to look into the json data returned by using the API with a http request instead of the python package in order to figure out what is going on here."
   ]
  },
  {
   "cell_type": "code",
   "execution_count": 14,
   "id": "cb495bb1-37a8-48ed-baf3-2f3093772a5c",
   "metadata": {},
   "outputs": [],
   "source": [
    "url = 'https://medium2.p.rapidapi.com/latestposts/astronomy'\n",
    "headers = {\n",
    "    'X-RapidAPI-Key': medium_api_key,\n",
    "    'X-RapidAPI-Host': 'medium2.p.rapidapi.com'\n",
    "}\n",
    "\n",
    "response = requests.get(url, headers = headers)"
   ]
  },
  {
   "cell_type": "code",
   "execution_count": 15,
   "id": "a264be2c-7cb5-4c7f-a5bd-7d2a8ef783b0",
   "metadata": {},
   "outputs": [
    {
     "data": {
      "text/plain": [
       "{'error': 'API is working but something unexpected occured. Please check your input!'}"
      ]
     },
     "execution_count": 15,
     "metadata": {},
     "output_type": "execute_result"
    }
   ],
   "source": [
    "response.json()"
   ]
  },
  {
   "cell_type": "markdown",
   "id": "fa21abf8-f8fd-4943-95c3-203f24a83342",
   "metadata": {},
   "source": [
    "So now I see that it is the main API that is for some reason receiving an error message for the request. There is not much more I can do about this. I have left a message detailing the issue in the API discussion board on RapidAPI.\n",
    "\n",
    "#### Update\n",
    "\n",
    "An [issue](https://github.com/weeping-angel/medium-api/issues/1) was submitted on the Github repo for the Medium API and the issue has been resolved so that this error no longer occurs. With the new update a more meaningful error is raised and will not break execution of the script."
   ]
  },
  {
   "cell_type": "markdown",
   "id": "58f5c8f5-5fd2-484f-b9dd-c23a1bb74a29",
   "metadata": {},
   "source": [
    "### User ID Error\n",
    "\n",
    "This is an error being thrown on the \"user\" endpoint of the API."
   ]
  },
  {
   "cell_type": "code",
   "execution_count": 6,
   "id": "2b00e16a-009f-45f0-b2e4-5800dd1cca25",
   "metadata": {},
   "outputs": [
    {
     "data": {
      "text/plain": [
       "'df4b39a6f082'"
      ]
     },
     "execution_count": 6,
     "metadata": {},
     "output_type": "execute_result"
    }
   ],
   "source": [
    "articles.loc[0].user_id"
   ]
  },
  {
   "cell_type": "code",
   "execution_count": 7,
   "id": "41f7df44-454e-46a0-b312-3e9ea1608a42",
   "metadata": {},
   "outputs": [
    {
     "ename": "KeyError",
     "evalue": "'followers'",
     "output_type": "error",
     "traceback": [
      "\u001b[0;31m---------------------------------------------------------------------------\u001b[0m",
      "\u001b[0;31mKeyError\u001b[0m                                  Traceback (most recent call last)",
      "Input \u001b[0;32mIn [7]\u001b[0m, in \u001b[0;36m<cell line: 1>\u001b[0;34m()\u001b[0m\n\u001b[0;32m----> 1\u001b[0m u \u001b[38;5;241m=\u001b[39m \u001b[43mmedium\u001b[49m\u001b[38;5;241;43m.\u001b[39;49m\u001b[43muser\u001b[49m\u001b[43m(\u001b[49m\u001b[43muser_id\u001b[49m\u001b[43m \u001b[49m\u001b[38;5;241;43m=\u001b[39;49m\u001b[43m \u001b[49m\u001b[38;5;124;43m'\u001b[39;49m\u001b[38;5;124;43mdf4b39a6f082\u001b[39;49m\u001b[38;5;124;43m'\u001b[39;49m\u001b[43m)\u001b[49m\n",
      "File \u001b[0;32m~/Repositories/article-recommender/article_recommender_venv/lib/python3.9/site-packages/medium_api/medium.py:123\u001b[0m, in \u001b[0;36mMedium.user\u001b[0;34m(self, username, user_id, save_info)\u001b[0m\n\u001b[1;32m     89\u001b[0m \u001b[38;5;124;03m\"\"\"For getting the Medium User Object\u001b[39;00m\n\u001b[1;32m     90\u001b[0m \n\u001b[1;32m     91\u001b[0m \u001b[38;5;124;03m    Typical usage example:\u001b[39;00m\n\u001b[0;32m   (...)\u001b[0m\n\u001b[1;32m    120\u001b[0m \u001b[38;5;124;03m    cannot omit both. \u001b[39;00m\n\u001b[1;32m    121\u001b[0m \u001b[38;5;124;03m\"\"\"\u001b[39;00m\n\u001b[1;32m    122\u001b[0m \u001b[38;5;28;01mif\u001b[39;00m user_id \u001b[38;5;129;01mis\u001b[39;00m \u001b[38;5;129;01mnot\u001b[39;00m \u001b[38;5;28;01mNone\u001b[39;00m:\n\u001b[0;32m--> 123\u001b[0m     \u001b[38;5;28;01mreturn\u001b[39;00m \u001b[43mUser\u001b[49m\u001b[43m(\u001b[49m\u001b[43muser_id\u001b[49m\u001b[43m \u001b[49m\u001b[38;5;241;43m=\u001b[39;49m\u001b[43m \u001b[49m\u001b[43muser_id\u001b[49m\u001b[43m,\u001b[49m\u001b[43m \u001b[49m\n\u001b[1;32m    124\u001b[0m \u001b[43m                \u001b[49m\u001b[43mget_resp\u001b[49m\u001b[43m \u001b[49m\u001b[38;5;241;43m=\u001b[39;49m\u001b[43m \u001b[49m\u001b[38;5;28;43mself\u001b[39;49m\u001b[38;5;241;43m.\u001b[39;49m\u001b[43m__get_resp\u001b[49m\u001b[43m,\u001b[49m\u001b[43m \u001b[49m\n\u001b[1;32m    125\u001b[0m \u001b[43m                \u001b[49m\u001b[43mfetch_articles\u001b[49m\u001b[38;5;241;43m=\u001b[39;49m\u001b[38;5;28;43mself\u001b[39;49m\u001b[38;5;241;43m.\u001b[39;49m\u001b[43mfetch_articles\u001b[49m\u001b[43m,\u001b[49m\n\u001b[1;32m    126\u001b[0m \u001b[43m                \u001b[49m\u001b[43msave_info\u001b[49m\u001b[43m \u001b[49m\u001b[38;5;241;43m=\u001b[39;49m\u001b[43m \u001b[49m\u001b[43msave_info\u001b[49m\u001b[43m)\u001b[49m\n\u001b[1;32m    127\u001b[0m \u001b[38;5;28;01melif\u001b[39;00m username \u001b[38;5;129;01mis\u001b[39;00m \u001b[38;5;129;01mnot\u001b[39;00m \u001b[38;5;28;01mNone\u001b[39;00m:\n\u001b[1;32m    128\u001b[0m     resp, _ \u001b[38;5;241m=\u001b[39m \u001b[38;5;28mself\u001b[39m\u001b[38;5;241m.\u001b[39m__get_resp(\u001b[38;5;124mf\u001b[39m\u001b[38;5;124m'\u001b[39m\u001b[38;5;124m/user/id_for/\u001b[39m\u001b[38;5;132;01m{\u001b[39;00m\u001b[38;5;28mstr\u001b[39m(username)\u001b[38;5;132;01m}\u001b[39;00m\u001b[38;5;124m'\u001b[39m)\n",
      "File \u001b[0;32m~/Repositories/article-recommender/article_recommender_venv/lib/python3.9/site-packages/medium_api/_user.py:45\u001b[0m, in \u001b[0;36mUser.__init__\u001b[0;34m(self, user_id, get_resp, fetch_articles, save_info)\u001b[0m\n\u001b[1;32m     42\u001b[0m \u001b[38;5;28mself\u001b[39m\u001b[38;5;241m.\u001b[39mimage_url \u001b[38;5;241m=\u001b[39m \u001b[38;5;28;01mNone\u001b[39;00m\n\u001b[1;32m     44\u001b[0m \u001b[38;5;28;01mif\u001b[39;00m save_info:\n\u001b[0;32m---> 45\u001b[0m     \u001b[38;5;28;43mself\u001b[39;49m\u001b[38;5;241;43m.\u001b[39;49m\u001b[43msave_info\u001b[49m\u001b[43m(\u001b[49m\u001b[43m)\u001b[49m\n",
      "File \u001b[0;32m~/Repositories/article-recommender/article_recommender_venv/lib/python3.9/site-packages/medium_api/_user.py:177\u001b[0m, in \u001b[0;36mUser.save_info\u001b[0;34m(self)\u001b[0m\n\u001b[1;32m    175\u001b[0m \u001b[38;5;28mself\u001b[39m\u001b[38;5;241m.\u001b[39mfullname \u001b[38;5;241m=\u001b[39m user[\u001b[38;5;124m'\u001b[39m\u001b[38;5;124mfullname\u001b[39m\u001b[38;5;124m'\u001b[39m]\n\u001b[1;32m    176\u001b[0m \u001b[38;5;28mself\u001b[39m\u001b[38;5;241m.\u001b[39musername \u001b[38;5;241m=\u001b[39m user[\u001b[38;5;124m'\u001b[39m\u001b[38;5;124musername\u001b[39m\u001b[38;5;124m'\u001b[39m]\n\u001b[0;32m--> 177\u001b[0m \u001b[38;5;28mself\u001b[39m\u001b[38;5;241m.\u001b[39mfollowers \u001b[38;5;241m=\u001b[39m \u001b[43muser\u001b[49m\u001b[43m[\u001b[49m\u001b[38;5;124;43m'\u001b[39;49m\u001b[38;5;124;43mfollowers\u001b[39;49m\u001b[38;5;124;43m'\u001b[39;49m\u001b[43m]\u001b[49m\n\u001b[1;32m    178\u001b[0m \u001b[38;5;28mself\u001b[39m\u001b[38;5;241m.\u001b[39mbio \u001b[38;5;241m=\u001b[39m user[\u001b[38;5;124m'\u001b[39m\u001b[38;5;124mbio\u001b[39m\u001b[38;5;124m'\u001b[39m]\n\u001b[1;32m    179\u001b[0m \u001b[38;5;28mself\u001b[39m\u001b[38;5;241m.\u001b[39mtwitter_username \u001b[38;5;241m=\u001b[39m user[\u001b[38;5;124m'\u001b[39m\u001b[38;5;124mtwitter_username\u001b[39m\u001b[38;5;124m'\u001b[39m]\n",
      "\u001b[0;31mKeyError\u001b[0m: 'followers'"
     ]
    }
   ],
   "source": [
    "u = medium.user(user_id = 'df4b39a6f082')"
   ]
  },
  {
   "cell_type": "markdown",
   "id": "441435a7-54c6-4e17-8527-00c2b7fcdd6b",
   "metadata": {},
   "source": [
    "I'll look deeper into what exactly is causing this error another time.\n",
    "\n",
    "Additionally, this error is occurring for users whose accounts are under investigation."
   ]
  },
  {
   "cell_type": "code",
   "execution_count": 8,
   "id": "280ec822-3f64-4fe4-91d5-0c58087eba76",
   "metadata": {},
   "outputs": [
    {
     "data": {
      "text/plain": [
       "{'error': 'API is working. Please check your path/query parameters. Invalid Input.'}"
      ]
     },
     "execution_count": 8,
     "metadata": {},
     "output_type": "execute_result"
    }
   ],
   "source": [
    "url = f'https://medium2.p.rapidapi.com/user/3d738c2a082a'\n",
    "headers = {\n",
    "    'X-RapidAPI-Key': medium_api_key,\n",
    "    'X-RapidAPI-Host': 'medium2.p.rapidapi.com'\n",
    "}\n",
    "\n",
    "requests.get(url, headers = headers).json()"
   ]
  },
  {
   "cell_type": "markdown",
   "id": "c0c47f43-266e-44aa-ad1f-067f1a0ebc63",
   "metadata": {},
   "source": [
    "Again I'll look deeper into what exactly is causing this error another time.\n",
    "\n",
    "### Publication ID Error\n",
    "\n",
    "This is error is occurring for the \"publication\" endpoint of the API."
   ]
  },
  {
   "cell_type": "code",
   "execution_count": 9,
   "id": "216ddcf5-56fc-4e6a-872c-a85241f5c1dd",
   "metadata": {},
   "outputs": [
    {
     "name": "stdout",
     "output_type": "stream",
     "text": [
      "[ERROR]: Response: {'error': 'API is working but something unexpected occured. Please check your input!'}\n"
     ]
    },
    {
     "ename": "KeyError",
     "evalue": "'name'",
     "output_type": "error",
     "traceback": [
      "\u001b[0;31m---------------------------------------------------------------------------\u001b[0m",
      "\u001b[0;31mKeyError\u001b[0m                                  Traceback (most recent call last)",
      "Input \u001b[0;32mIn [9]\u001b[0m, in \u001b[0;36m<cell line: 1>\u001b[0;34m()\u001b[0m\n\u001b[0;32m----> 1\u001b[0m p \u001b[38;5;241m=\u001b[39m \u001b[43mmedium\u001b[49m\u001b[38;5;241;43m.\u001b[39;49m\u001b[43mpublication\u001b[49m\u001b[43m(\u001b[49m\u001b[43mpublication_id\u001b[49m\u001b[43m \u001b[49m\u001b[38;5;241;43m=\u001b[39;49m\u001b[43m \u001b[49m\u001b[38;5;124;43m'\u001b[39;49m\u001b[38;5;124;43m519a291a42b5\u001b[39;49m\u001b[38;5;124;43m'\u001b[39;49m\u001b[43m)\u001b[49m\n",
      "File \u001b[0;32m~/Repositories/article-recommender/article_recommender_venv/lib/python3.9/site-packages/medium_api/medium.py:185\u001b[0m, in \u001b[0;36mMedium.publication\u001b[0;34m(self, publication_id, save_info)\u001b[0m\n\u001b[1;32m    165\u001b[0m \u001b[38;5;28;01mdef\u001b[39;00m \u001b[38;5;21mpublication\u001b[39m(\u001b[38;5;28mself\u001b[39m, publication_id, save_info\u001b[38;5;241m=\u001b[39m\u001b[38;5;28;01mTrue\u001b[39;00m):\n\u001b[1;32m    166\u001b[0m     \u001b[38;5;124;03m\"\"\"For getting the Medium Publication Object\u001b[39;00m\n\u001b[1;32m    167\u001b[0m \n\u001b[1;32m    168\u001b[0m \u001b[38;5;124;03m        Typical usage example:\u001b[39;00m\n\u001b[0;32m   (...)\u001b[0m\n\u001b[1;32m    183\u001b[0m \n\u001b[1;32m    184\u001b[0m \u001b[38;5;124;03m    \"\"\"\u001b[39;00m\n\u001b[0;32m--> 185\u001b[0m     \u001b[38;5;28;01mreturn\u001b[39;00m \u001b[43mPublication\u001b[49m\u001b[43m(\u001b[49m\u001b[43mpublication_id\u001b[49m\u001b[43m \u001b[49m\u001b[38;5;241;43m=\u001b[39;49m\u001b[43m \u001b[49m\u001b[43mpublication_id\u001b[49m\u001b[43m,\u001b[49m\u001b[43m \u001b[49m\n\u001b[1;32m    186\u001b[0m \u001b[43m                       \u001b[49m\u001b[43mget_resp\u001b[49m\u001b[38;5;241;43m=\u001b[39;49m\u001b[38;5;28;43mself\u001b[39;49m\u001b[38;5;241;43m.\u001b[39;49m\u001b[43m__get_resp\u001b[49m\u001b[43m,\u001b[49m\n\u001b[1;32m    187\u001b[0m \u001b[43m                       \u001b[49m\u001b[43msave_info\u001b[49m\u001b[38;5;241;43m=\u001b[39;49m\u001b[43msave_info\u001b[49m\u001b[43m)\u001b[49m\n",
      "File \u001b[0;32m~/Repositories/article-recommender/article_recommender_venv/lib/python3.9/site-packages/medium_api/_publication.py:37\u001b[0m, in \u001b[0;36mPublication.__init__\u001b[0;34m(self, publication_id, get_resp, save_info)\u001b[0m\n\u001b[1;32m     34\u001b[0m \u001b[38;5;28mself\u001b[39m\u001b[38;5;241m.\u001b[39m__info \u001b[38;5;241m=\u001b[39m \u001b[38;5;28;01mNone\u001b[39;00m\n\u001b[1;32m     36\u001b[0m \u001b[38;5;28;01mif\u001b[39;00m save_info:\n\u001b[0;32m---> 37\u001b[0m     \u001b[38;5;28;43mself\u001b[39;49m\u001b[38;5;241;43m.\u001b[39;49m\u001b[43msave_info\u001b[49m\u001b[43m(\u001b[49m\u001b[43m)\u001b[49m\n",
      "File \u001b[0;32m~/Repositories/article-recommender/article_recommender_venv/lib/python3.9/site-packages/medium_api/_publication.py:85\u001b[0m, in \u001b[0;36mPublication.save_info\u001b[0;34m(self)\u001b[0m\n\u001b[1;32m     65\u001b[0m \u001b[38;5;124;03m\"\"\"Saves the information related to the publication\u001b[39;00m\n\u001b[1;32m     66\u001b[0m \u001b[38;5;124;03m\u001b[39;00m\n\u001b[1;32m     67\u001b[0m \u001b[38;5;124;03mNote:\u001b[39;00m\n\u001b[0;32m   (...)\u001b[0m\n\u001b[1;32m     81\u001b[0m \n\u001b[1;32m     82\u001b[0m \u001b[38;5;124;03m\"\"\"\u001b[39;00m\n\u001b[1;32m     83\u001b[0m publication \u001b[38;5;241m=\u001b[39m \u001b[38;5;28mself\u001b[39m\u001b[38;5;241m.\u001b[39minfo\n\u001b[0;32m---> 85\u001b[0m \u001b[38;5;28mself\u001b[39m\u001b[38;5;241m.\u001b[39mname \u001b[38;5;241m=\u001b[39m \u001b[43mpublication\u001b[49m\u001b[43m[\u001b[49m\u001b[38;5;124;43m'\u001b[39;49m\u001b[38;5;124;43mname\u001b[39;49m\u001b[38;5;124;43m'\u001b[39;49m\u001b[43m]\u001b[49m\n\u001b[1;32m     86\u001b[0m \u001b[38;5;28mself\u001b[39m\u001b[38;5;241m.\u001b[39mdescription \u001b[38;5;241m=\u001b[39m publication[\u001b[38;5;124m'\u001b[39m\u001b[38;5;124mdescription\u001b[39m\u001b[38;5;124m'\u001b[39m]\n\u001b[1;32m     87\u001b[0m \u001b[38;5;28mself\u001b[39m\u001b[38;5;241m.\u001b[39murl \u001b[38;5;241m=\u001b[39m publication[\u001b[38;5;124m'\u001b[39m\u001b[38;5;124murl\u001b[39m\u001b[38;5;124m'\u001b[39m]\n",
      "\u001b[0;31mKeyError\u001b[0m: 'name'"
     ]
    }
   ],
   "source": [
    "p = medium.publication(publication_id = '519a291a42b5')"
   ]
  },
  {
   "cell_type": "markdown",
   "id": "5da41870-d082-464c-b148-54625c7cf9e1",
   "metadata": {},
   "source": [
    "Once again I'll look into this deeper another time. This seems to occur with publications that are under investigation."
   ]
  }
 ],
 "metadata": {
  "kernelspec": {
   "display_name": "article_recommender_venv",
   "language": "python",
   "name": "article_recommender_venv"
  },
  "language_info": {
   "codemirror_mode": {
    "name": "ipython",
    "version": 3
   },
   "file_extension": ".py",
   "mimetype": "text/x-python",
   "name": "python",
   "nbconvert_exporter": "python",
   "pygments_lexer": "ipython3",
   "version": "3.9.7"
  }
 },
 "nbformat": 4,
 "nbformat_minor": 5
}
