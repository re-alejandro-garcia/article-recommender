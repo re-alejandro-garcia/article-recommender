{
 "cells": [
  {
   "cell_type": "markdown",
   "id": "c0a030eb-f752-44b7-968c-fc02c38bbfc4",
   "metadata": {},
   "source": [
    "# Preparing Collected Data\n",
    "\n",
    "In this notebook we'll go through the process of preparing the collected article data. The steps outlined here will allow for reproducing the results in production. The main interest here is to normalize the data in such a way that it can be easily utilized in exploration and modeling in production.\n",
    "\n",
    "## Imports\n",
    "\n",
    "These are all the modules that we'll need to run the code in this notebook."
   ]
  },
  {
   "cell_type": "code",
   "execution_count": 1,
   "id": "6d7cadb3-0c75-491c-a7fb-e7502ed29cb1",
   "metadata": {},
   "outputs": [],
   "source": [
    "import numpy as np\n",
    "import pandas as pd"
   ]
  },
  {
   "cell_type": "markdown",
   "id": "fa59bfa0-9fcd-4287-ac9c-3f7866a11e60",
   "metadata": {},
   "source": [
    "## Pulling the Training Data\n",
    "\n",
    "A set of article data has been set aside for the purposes of data analysis and model training. Here I'll load that data and take a look at what features we're working with."
   ]
  },
  {
   "cell_type": "code",
   "execution_count": 8,
   "id": "8466b9a9-8ffe-417e-a3fe-d62afedbe5cb",
   "metadata": {},
   "outputs": [],
   "source": [
    "df = pd.read_csv('../data/articles-with-topic-label.csv')"
   ]
  },
  {
   "cell_type": "code",
   "execution_count": 9,
   "id": "f366b11e-8f35-4645-987b-08c7acf846c3",
   "metadata": {},
   "outputs": [
    {
     "name": "stdout",
     "output_type": "stream",
     "text": [
      "<class 'pandas.core.frame.DataFrame'>\n",
      "RangeIndex: 250 entries, 0 to 249\n",
      "Data columns (total 13 columns):\n",
      " #   Column          Non-Null Count  Dtype  \n",
      "---  ------          --------------  -----  \n",
      " 0   user_id         250 non-null    object \n",
      " 1   publication_id  250 non-null    object \n",
      " 2   title           250 non-null    object \n",
      " 3   subtitle        248 non-null    object \n",
      " 4   date            250 non-null    object \n",
      " 5   word_count      250 non-null    float64\n",
      " 6   read_time       250 non-null    float64\n",
      " 7   url             250 non-null    object \n",
      " 8   tags            250 non-null    object \n",
      " 9   topics          250 non-null    object \n",
      " 10  lang            250 non-null    object \n",
      " 11  author          244 non-null    object \n",
      " 12  publication     245 non-null    object \n",
      "dtypes: float64(2), object(11)\n",
      "memory usage: 25.5+ KB\n"
     ]
    }
   ],
   "source": [
    "df.info()"
   ]
  },
  {
   "cell_type": "markdown",
   "id": "dcf2880a-a1a3-4394-a184-7c08e0b59967",
   "metadata": {},
   "source": [
    "## Removing Null Values\n",
    "\n",
    "The first that needs to be done is removing null observations that won't provide any value to us. Anything missing in the author and publication columns won't be of any use to us since these articles are not visible publicly. Details about this issue can be found in the building_labeled_data.ipynb notebook. Here we'll simply remove these rows. Null values in the subtitle column are not a problem for us since this is normal for some articles, but we'll probably want to change these to have empty strings instead of np.NaN."
   ]
  },
  {
   "cell_type": "code",
   "execution_count": 12,
   "id": "7e9fbacc-7e28-4620-9ba3-136892a37a76",
   "metadata": {},
   "outputs": [],
   "source": [
    "# Here we're filling nulls in the subtitle column with an empty string.\n",
    "df[['subtitle']] = df[['subtitle']].fillna('')"
   ]
  },
  {
   "cell_type": "code",
   "execution_count": 13,
   "id": "27aa59b2-c965-4fa0-ac12-b76a2eebb68b",
   "metadata": {},
   "outputs": [],
   "source": [
    "# Here we're removing all remaining rows with missing values.\n",
    "df = df.dropna()"
   ]
  },
  {
   "cell_type": "code",
   "execution_count": 14,
   "id": "4e0331fc-0d25-41dc-ab25-56d1cd0191d2",
   "metadata": {},
   "outputs": [
    {
     "name": "stdout",
     "output_type": "stream",
     "text": [
      "<class 'pandas.core.frame.DataFrame'>\n",
      "Int64Index: 241 entries, 0 to 249\n",
      "Data columns (total 13 columns):\n",
      " #   Column          Non-Null Count  Dtype  \n",
      "---  ------          --------------  -----  \n",
      " 0   user_id         241 non-null    object \n",
      " 1   publication_id  241 non-null    object \n",
      " 2   title           241 non-null    object \n",
      " 3   subtitle        241 non-null    object \n",
      " 4   date            241 non-null    object \n",
      " 5   word_count      241 non-null    float64\n",
      " 6   read_time       241 non-null    float64\n",
      " 7   url             241 non-null    object \n",
      " 8   tags            241 non-null    object \n",
      " 9   topics          241 non-null    object \n",
      " 10  lang            241 non-null    object \n",
      " 11  author          241 non-null    object \n",
      " 12  publication     241 non-null    object \n",
      "dtypes: float64(2), object(11)\n",
      "memory usage: 26.4+ KB\n"
     ]
    }
   ],
   "source": [
    "df.info()"
   ]
  },
  {
   "cell_type": "code",
   "execution_count": null,
   "id": "0c627528-ce49-4b25-809d-57df15490c7a",
   "metadata": {},
   "outputs": [],
   "source": []
  }
 ],
 "metadata": {
  "kernelspec": {
   "display_name": "article_recommender_venv",
   "language": "python",
   "name": "article_recommender_venv"
  },
  "language_info": {
   "codemirror_mode": {
    "name": "ipython",
    "version": 3
   },
   "file_extension": ".py",
   "mimetype": "text/x-python",
   "name": "python",
   "nbconvert_exporter": "python",
   "pygments_lexer": "ipython3",
   "version": "3.9.7"
  }
 },
 "nbformat": 4,
 "nbformat_minor": 5
}
