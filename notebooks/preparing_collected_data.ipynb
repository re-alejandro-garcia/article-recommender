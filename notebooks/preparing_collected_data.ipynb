{
 "cells": [
  {
   "cell_type": "markdown",
   "id": "c0a030eb-f752-44b7-968c-fc02c38bbfc4",
   "metadata": {},
   "source": [
    "# Preparing Collected Data\n",
    "\n",
    "In this notebook we'll go through the process of preparing the collected article data. The steps outlined here will allow for reproducing the results in production. The main interest here is to normalize the data in such a way that it can be easily utilized in exploration and modeling in production.\n",
    "\n",
    "## Imports\n",
    "\n",
    "These are all the modules that we'll need to run the code in this notebook."
   ]
  },
  {
   "cell_type": "code",
   "execution_count": 45,
   "id": "6d7cadb3-0c75-491c-a7fb-e7502ed29cb1",
   "metadata": {},
   "outputs": [],
   "source": [
    "import numpy as np\n",
    "import pandas as pd\n",
    "\n",
    "import unicodedata\n",
    "import re\n",
    "import datetime"
   ]
  },
  {
   "cell_type": "markdown",
   "id": "fa59bfa0-9fcd-4287-ac9c-3f7866a11e60",
   "metadata": {},
   "source": [
    "## Pulling the Training Data\n",
    "\n",
    "A set of article data has been set aside for the purposes of data analysis and model training. Here I'll load that data and take a look at what features we're working with."
   ]
  },
  {
   "cell_type": "code",
   "execution_count": 2,
   "id": "8466b9a9-8ffe-417e-a3fe-d62afedbe5cb",
   "metadata": {},
   "outputs": [],
   "source": [
    "df = pd.read_csv('../data/articles-with-topic-label.csv')"
   ]
  },
  {
   "cell_type": "code",
   "execution_count": 3,
   "id": "f366b11e-8f35-4645-987b-08c7acf846c3",
   "metadata": {},
   "outputs": [
    {
     "name": "stdout",
     "output_type": "stream",
     "text": [
      "<class 'pandas.core.frame.DataFrame'>\n",
      "RangeIndex: 250 entries, 0 to 249\n",
      "Data columns (total 13 columns):\n",
      " #   Column          Non-Null Count  Dtype  \n",
      "---  ------          --------------  -----  \n",
      " 0   user_id         250 non-null    object \n",
      " 1   publication_id  250 non-null    object \n",
      " 2   title           250 non-null    object \n",
      " 3   subtitle        248 non-null    object \n",
      " 4   date            250 non-null    object \n",
      " 5   word_count      250 non-null    float64\n",
      " 6   read_time       250 non-null    float64\n",
      " 7   url             250 non-null    object \n",
      " 8   tags            250 non-null    object \n",
      " 9   topics          250 non-null    object \n",
      " 10  lang            250 non-null    object \n",
      " 11  author          244 non-null    object \n",
      " 12  publication     245 non-null    object \n",
      "dtypes: float64(2), object(11)\n",
      "memory usage: 25.5+ KB\n"
     ]
    }
   ],
   "source": [
    "df.info()"
   ]
  },
  {
   "cell_type": "markdown",
   "id": "dcf2880a-a1a3-4394-a184-7c08e0b59967",
   "metadata": {},
   "source": [
    "## Removing Null Values\n",
    "\n",
    "The first that needs to be done is removing null observations that won't provide any value to us. Anything missing in the author and publication columns won't be of any use to us since these articles are not visible publicly. Details about this issue can be found in the building_labeled_data.ipynb notebook. Here we'll simply remove these rows. Null values in the subtitle column are not a problem for us since this is normal for some articles, but we'll probably want to change these to have empty strings instead of np.NaN."
   ]
  },
  {
   "cell_type": "code",
   "execution_count": 4,
   "id": "7e9fbacc-7e28-4620-9ba3-136892a37a76",
   "metadata": {},
   "outputs": [],
   "source": [
    "# Here we're filling nulls in the subtitle column with an empty string.\n",
    "df[['subtitle']] = df[['subtitle']].fillna('')"
   ]
  },
  {
   "cell_type": "code",
   "execution_count": 5,
   "id": "27aa59b2-c965-4fa0-ac12-b76a2eebb68b",
   "metadata": {},
   "outputs": [],
   "source": [
    "# Here we're removing all remaining rows with missing values.\n",
    "df = df.dropna()"
   ]
  },
  {
   "cell_type": "code",
   "execution_count": 6,
   "id": "4e0331fc-0d25-41dc-ab25-56d1cd0191d2",
   "metadata": {},
   "outputs": [
    {
     "name": "stdout",
     "output_type": "stream",
     "text": [
      "<class 'pandas.core.frame.DataFrame'>\n",
      "Int64Index: 241 entries, 0 to 249\n",
      "Data columns (total 13 columns):\n",
      " #   Column          Non-Null Count  Dtype  \n",
      "---  ------          --------------  -----  \n",
      " 0   user_id         241 non-null    object \n",
      " 1   publication_id  241 non-null    object \n",
      " 2   title           241 non-null    object \n",
      " 3   subtitle        241 non-null    object \n",
      " 4   date            241 non-null    object \n",
      " 5   word_count      241 non-null    float64\n",
      " 6   read_time       241 non-null    float64\n",
      " 7   url             241 non-null    object \n",
      " 8   tags            241 non-null    object \n",
      " 9   topics          241 non-null    object \n",
      " 10  lang            241 non-null    object \n",
      " 11  author          241 non-null    object \n",
      " 12  publication     241 non-null    object \n",
      "dtypes: float64(2), object(11)\n",
      "memory usage: 26.4+ KB\n"
     ]
    }
   ],
   "source": [
    "df.info()"
   ]
  },
  {
   "cell_type": "markdown",
   "id": "13ca9d7c-51f0-4e6a-b451-5eb556089544",
   "metadata": {},
   "source": [
    "## Title and Subtitle\n",
    "\n",
    "The titles and subtitles of each article will be heavily used for the purposes of both determining the topic(s) of an article and determining whether a user might find the article interesting to read. For these columns we will likely want to perform some normalization by converting everything to lowercase. We'll also want to remove any special characters and punctuation that exist in the strings. We want to keep only words and numbers as these are the only things that will provide value to us."
   ]
  },
  {
   "cell_type": "code",
   "execution_count": 7,
   "id": "8e97f6c0-c675-4576-afa6-e96a2ad86867",
   "metadata": {},
   "outputs": [
    {
     "data": {
      "text/html": [
       "<div>\n",
       "<style scoped>\n",
       "    .dataframe tbody tr th:only-of-type {\n",
       "        vertical-align: middle;\n",
       "    }\n",
       "\n",
       "    .dataframe tbody tr th {\n",
       "        vertical-align: top;\n",
       "    }\n",
       "\n",
       "    .dataframe thead th {\n",
       "        text-align: right;\n",
       "    }\n",
       "</style>\n",
       "<table border=\"1\" class=\"dataframe\">\n",
       "  <thead>\n",
       "    <tr style=\"text-align: right;\">\n",
       "      <th></th>\n",
       "      <th>title</th>\n",
       "      <th>subtitle</th>\n",
       "    </tr>\n",
       "  </thead>\n",
       "  <tbody>\n",
       "    <tr>\n",
       "      <th>0</th>\n",
       "      <td>Top 10 In-Demand programming languages to lear...</td>\n",
       "      <td>Python, Java, JavaScript, C, C#, C++, Swift, P...</td>\n",
       "    </tr>\n",
       "    <tr>\n",
       "      <th>1</th>\n",
       "      <td>Cheat Sheet: Importing and exporting all file ...</td>\n",
       "      <td>Hi everyone! In this post we’ll review how to ...</td>\n",
       "    </tr>\n",
       "    <tr>\n",
       "      <th>2</th>\n",
       "      <td>Python Packages That Apple Uses</td>\n",
       "      <td>Welcome back! Python is an awesome programming...</td>\n",
       "    </tr>\n",
       "    <tr>\n",
       "      <th>3</th>\n",
       "      <td>An Easy Introduction to NumPy Arrays</td>\n",
       "      <td>What, How, and Why.</td>\n",
       "    </tr>\n",
       "    <tr>\n",
       "      <th>4</th>\n",
       "      <td>Alternative Method to Choose the Right Machine...</td>\n",
       "      <td>In this article, I will introduce you to a spe...</td>\n",
       "    </tr>\n",
       "  </tbody>\n",
       "</table>\n",
       "</div>"
      ],
      "text/plain": [
       "                                               title  \\\n",
       "0  Top 10 In-Demand programming languages to lear...   \n",
       "1  Cheat Sheet: Importing and exporting all file ...   \n",
       "2                    Python Packages That Apple Uses   \n",
       "3               An Easy Introduction to NumPy Arrays   \n",
       "4  Alternative Method to Choose the Right Machine...   \n",
       "\n",
       "                                            subtitle  \n",
       "0  Python, Java, JavaScript, C, C#, C++, Swift, P...  \n",
       "1  Hi everyone! In this post we’ll review how to ...  \n",
       "2  Welcome back! Python is an awesome programming...  \n",
       "3                                What, How, and Why.  \n",
       "4  In this article, I will introduce you to a spe...  "
      ]
     },
     "execution_count": 7,
     "metadata": {},
     "output_type": "execute_result"
    }
   ],
   "source": [
    "df[['title', 'subtitle']].head()"
   ]
  },
  {
   "cell_type": "code",
   "execution_count": 12,
   "id": "1650e898-fadd-4a58-bd33-a7013be03652",
   "metadata": {},
   "outputs": [],
   "source": [
    "# Convert everything to lowercase.\n",
    "df['title'] = df['title'].apply(str.lower)\n",
    "df['subtitle'] = df['subtitle'].apply(str.lower)"
   ]
  },
  {
   "cell_type": "code",
   "execution_count": 13,
   "id": "fe97855f-b9c7-4b02-a39f-51b1e1c0aefd",
   "metadata": {},
   "outputs": [
    {
     "data": {
      "text/html": [
       "<div>\n",
       "<style scoped>\n",
       "    .dataframe tbody tr th:only-of-type {\n",
       "        vertical-align: middle;\n",
       "    }\n",
       "\n",
       "    .dataframe tbody tr th {\n",
       "        vertical-align: top;\n",
       "    }\n",
       "\n",
       "    .dataframe thead th {\n",
       "        text-align: right;\n",
       "    }\n",
       "</style>\n",
       "<table border=\"1\" class=\"dataframe\">\n",
       "  <thead>\n",
       "    <tr style=\"text-align: right;\">\n",
       "      <th></th>\n",
       "      <th>title</th>\n",
       "      <th>subtitle</th>\n",
       "    </tr>\n",
       "  </thead>\n",
       "  <tbody>\n",
       "    <tr>\n",
       "      <th>0</th>\n",
       "      <td>top 10 in-demand programming languages to lear...</td>\n",
       "      <td>python, java, javascript, c, c#, c++, swift, p...</td>\n",
       "    </tr>\n",
       "    <tr>\n",
       "      <th>1</th>\n",
       "      <td>cheat sheet: importing and exporting all file ...</td>\n",
       "      <td>hi everyone! in this post we’ll review how to ...</td>\n",
       "    </tr>\n",
       "    <tr>\n",
       "      <th>2</th>\n",
       "      <td>python packages that apple uses</td>\n",
       "      <td>welcome back! python is an awesome programming...</td>\n",
       "    </tr>\n",
       "    <tr>\n",
       "      <th>3</th>\n",
       "      <td>an easy introduction to numpy arrays</td>\n",
       "      <td>what, how, and why.</td>\n",
       "    </tr>\n",
       "    <tr>\n",
       "      <th>4</th>\n",
       "      <td>alternative method to choose the right machine...</td>\n",
       "      <td>in this article, i will introduce you to a spe...</td>\n",
       "    </tr>\n",
       "  </tbody>\n",
       "</table>\n",
       "</div>"
      ],
      "text/plain": [
       "                                               title  \\\n",
       "0  top 10 in-demand programming languages to lear...   \n",
       "1  cheat sheet: importing and exporting all file ...   \n",
       "2                    python packages that apple uses   \n",
       "3               an easy introduction to numpy arrays   \n",
       "4  alternative method to choose the right machine...   \n",
       "\n",
       "                                            subtitle  \n",
       "0  python, java, javascript, c, c#, c++, swift, p...  \n",
       "1  hi everyone! in this post we’ll review how to ...  \n",
       "2  welcome back! python is an awesome programming...  \n",
       "3                                what, how, and why.  \n",
       "4  in this article, i will introduce you to a spe...  "
      ]
     },
     "execution_count": 13,
     "metadata": {},
     "output_type": "execute_result"
    }
   ],
   "source": [
    "df[['title', 'subtitle']].head()"
   ]
  },
  {
   "cell_type": "code",
   "execution_count": 17,
   "id": "d56f5880-6feb-479f-8e18-116edcdd566b",
   "metadata": {},
   "outputs": [],
   "source": [
    "# Normalize all characters to utf-8.\n",
    "df['title'] = df['title'].apply(\n",
    "    lambda column: unicodedata.normalize('NFKD', column).encode('ascii', 'ignore').decode('utf-8', 'ignore')\n",
    ")\n",
    "df['subtitle'] = df['subtitle'].apply(\n",
    "    lambda column: unicodedata.normalize('NFKD', column).encode('ascii', 'ignore').decode('utf-8', 'ignore')\n",
    ")"
   ]
  },
  {
   "cell_type": "code",
   "execution_count": 18,
   "id": "aef4b8f3-f98f-4dd0-8a10-b0441fc6bd80",
   "metadata": {},
   "outputs": [
    {
     "data": {
      "text/html": [
       "<div>\n",
       "<style scoped>\n",
       "    .dataframe tbody tr th:only-of-type {\n",
       "        vertical-align: middle;\n",
       "    }\n",
       "\n",
       "    .dataframe tbody tr th {\n",
       "        vertical-align: top;\n",
       "    }\n",
       "\n",
       "    .dataframe thead th {\n",
       "        text-align: right;\n",
       "    }\n",
       "</style>\n",
       "<table border=\"1\" class=\"dataframe\">\n",
       "  <thead>\n",
       "    <tr style=\"text-align: right;\">\n",
       "      <th></th>\n",
       "      <th>title</th>\n",
       "      <th>subtitle</th>\n",
       "    </tr>\n",
       "  </thead>\n",
       "  <tbody>\n",
       "    <tr>\n",
       "      <th>0</th>\n",
       "      <td>top 10 in-demand programming languages to lear...</td>\n",
       "      <td>python, java, javascript, c, c#, c++, swift, p...</td>\n",
       "    </tr>\n",
       "    <tr>\n",
       "      <th>1</th>\n",
       "      <td>cheat sheet: importing and exporting all file ...</td>\n",
       "      <td>hi everyone! in this post well review how to i...</td>\n",
       "    </tr>\n",
       "    <tr>\n",
       "      <th>2</th>\n",
       "      <td>python packages that apple uses</td>\n",
       "      <td>welcome back! python is an awesome programming...</td>\n",
       "    </tr>\n",
       "    <tr>\n",
       "      <th>3</th>\n",
       "      <td>an easy introduction to numpy arrays</td>\n",
       "      <td>what, how, and why.</td>\n",
       "    </tr>\n",
       "    <tr>\n",
       "      <th>4</th>\n",
       "      <td>alternative method to choose the right machine...</td>\n",
       "      <td>in this article, i will introduce you to a spe...</td>\n",
       "    </tr>\n",
       "  </tbody>\n",
       "</table>\n",
       "</div>"
      ],
      "text/plain": [
       "                                               title  \\\n",
       "0  top 10 in-demand programming languages to lear...   \n",
       "1  cheat sheet: importing and exporting all file ...   \n",
       "2                    python packages that apple uses   \n",
       "3               an easy introduction to numpy arrays   \n",
       "4  alternative method to choose the right machine...   \n",
       "\n",
       "                                            subtitle  \n",
       "0  python, java, javascript, c, c#, c++, swift, p...  \n",
       "1  hi everyone! in this post well review how to i...  \n",
       "2  welcome back! python is an awesome programming...  \n",
       "3                                what, how, and why.  \n",
       "4  in this article, i will introduce you to a spe...  "
      ]
     },
     "execution_count": 18,
     "metadata": {},
     "output_type": "execute_result"
    }
   ],
   "source": [
    "df[['title', 'subtitle']].head()"
   ]
  },
  {
   "cell_type": "code",
   "execution_count": 21,
   "id": "5abe0074-b8d7-4013-8814-51ebae99a1ff",
   "metadata": {},
   "outputs": [
    {
     "data": {
      "text/plain": [
       "'top 10 in-demand programming languages to learn in 2022'"
      ]
     },
     "execution_count": 21,
     "metadata": {},
     "output_type": "execute_result"
    }
   ],
   "source": [
    "df.head(1).title.values[0]"
   ]
  },
  {
   "cell_type": "code",
   "execution_count": 22,
   "id": "644edc75-41e5-4768-a800-072e3e4b2410",
   "metadata": {},
   "outputs": [
    {
     "data": {
      "text/plain": [
       "'python, java, javascript, c, c#, c++, swift, php, go, rust'"
      ]
     },
     "execution_count": 22,
     "metadata": {},
     "output_type": "execute_result"
    }
   ],
   "source": [
    "df.head(1).subtitle.values[0]"
   ]
  },
  {
   "cell_type": "markdown",
   "id": "f1d4e1dc-36bc-47b7-a5a9-df4f3e57476a",
   "metadata": {},
   "source": [
    "We want to remove punctuation, but we don't want to remove all special characters. For instance, in \"c++\" and \"c#\" we would want to keep the '+' and '#' characters since these provide value to us. Additionally, something like \"in-demand\" should be converted to \"in demand\". This part of the preparation is very likely to evolve as more special cases are discovered."
   ]
  },
  {
   "cell_type": "code",
   "execution_count": 25,
   "id": "085bc33b-7883-44f0-9055-2016679613ec",
   "metadata": {},
   "outputs": [],
   "source": [
    "df['title'] = (\n",
    "    df['title']\n",
    "    .apply(lambda column: column.replace('-', ' '))\n",
    "    .apply(lambda column: re.sub(r'[^a-z0-9\\s\\+\\#]', '', column))\n",
    ")\n",
    "df['subtitle'] = (\n",
    "    df['subtitle']\n",
    "    .apply(lambda column: column.replace('-', ' '))\n",
    "    .apply(lambda column: re.sub(r'[^a-z0-9\\s\\+\\#]', '', column))\n",
    ")"
   ]
  },
  {
   "cell_type": "code",
   "execution_count": 26,
   "id": "946c5787-61da-456a-8acb-af184f474dd0",
   "metadata": {},
   "outputs": [
    {
     "data": {
      "text/html": [
       "<div>\n",
       "<style scoped>\n",
       "    .dataframe tbody tr th:only-of-type {\n",
       "        vertical-align: middle;\n",
       "    }\n",
       "\n",
       "    .dataframe tbody tr th {\n",
       "        vertical-align: top;\n",
       "    }\n",
       "\n",
       "    .dataframe thead th {\n",
       "        text-align: right;\n",
       "    }\n",
       "</style>\n",
       "<table border=\"1\" class=\"dataframe\">\n",
       "  <thead>\n",
       "    <tr style=\"text-align: right;\">\n",
       "      <th></th>\n",
       "      <th>title</th>\n",
       "      <th>subtitle</th>\n",
       "    </tr>\n",
       "  </thead>\n",
       "  <tbody>\n",
       "    <tr>\n",
       "      <th>0</th>\n",
       "      <td>top 10 in demand programming languages to lear...</td>\n",
       "      <td>python java javascript c c# c++ swift php go rust</td>\n",
       "    </tr>\n",
       "    <tr>\n",
       "      <th>1</th>\n",
       "      <td>cheat sheet importing and exporting all file t...</td>\n",
       "      <td>hi everyone in this post well review how to im...</td>\n",
       "    </tr>\n",
       "    <tr>\n",
       "      <th>2</th>\n",
       "      <td>python packages that apple uses</td>\n",
       "      <td>welcome back python is an awesome programming ...</td>\n",
       "    </tr>\n",
       "    <tr>\n",
       "      <th>3</th>\n",
       "      <td>an easy introduction to numpy arrays</td>\n",
       "      <td>what how and why</td>\n",
       "    </tr>\n",
       "    <tr>\n",
       "      <th>4</th>\n",
       "      <td>alternative method to choose the right machine...</td>\n",
       "      <td>in this article i will introduce you to a spec...</td>\n",
       "    </tr>\n",
       "  </tbody>\n",
       "</table>\n",
       "</div>"
      ],
      "text/plain": [
       "                                               title  \\\n",
       "0  top 10 in demand programming languages to lear...   \n",
       "1  cheat sheet importing and exporting all file t...   \n",
       "2                    python packages that apple uses   \n",
       "3               an easy introduction to numpy arrays   \n",
       "4  alternative method to choose the right machine...   \n",
       "\n",
       "                                            subtitle  \n",
       "0  python java javascript c c# c++ swift php go rust  \n",
       "1  hi everyone in this post well review how to im...  \n",
       "2  welcome back python is an awesome programming ...  \n",
       "3                                   what how and why  \n",
       "4  in this article i will introduce you to a spec...  "
      ]
     },
     "execution_count": 26,
     "metadata": {},
     "output_type": "execute_result"
    }
   ],
   "source": [
    "df[['title', 'subtitle']].head()"
   ]
  },
  {
   "cell_type": "markdown",
   "id": "1debec2c-c647-4c2c-a5b1-41d8a1b89e48",
   "metadata": {},
   "source": [
    "## Date\n",
    "\n",
    "How the date is prepared will depend on the source of the information. Different sources provide the date in different formats. The format for the date in the training data is roughly the desired format of the date, but we don't need the time information so that can be removed."
   ]
  },
  {
   "cell_type": "code",
   "execution_count": 28,
   "id": "2f1b0ee7-6dff-45b6-8cb3-2904eca209d8",
   "metadata": {},
   "outputs": [
    {
     "data": {
      "text/html": [
       "<div>\n",
       "<style scoped>\n",
       "    .dataframe tbody tr th:only-of-type {\n",
       "        vertical-align: middle;\n",
       "    }\n",
       "\n",
       "    .dataframe tbody tr th {\n",
       "        vertical-align: top;\n",
       "    }\n",
       "\n",
       "    .dataframe thead th {\n",
       "        text-align: right;\n",
       "    }\n",
       "</style>\n",
       "<table border=\"1\" class=\"dataframe\">\n",
       "  <thead>\n",
       "    <tr style=\"text-align: right;\">\n",
       "      <th></th>\n",
       "      <th>date</th>\n",
       "    </tr>\n",
       "  </thead>\n",
       "  <tbody>\n",
       "    <tr>\n",
       "      <th>0</th>\n",
       "      <td>2022-07-13 21:46:25</td>\n",
       "    </tr>\n",
       "    <tr>\n",
       "      <th>1</th>\n",
       "      <td>2022-07-13 21:39:33</td>\n",
       "    </tr>\n",
       "    <tr>\n",
       "      <th>2</th>\n",
       "      <td>2022-07-13 21:22:54</td>\n",
       "    </tr>\n",
       "    <tr>\n",
       "      <th>3</th>\n",
       "      <td>2022-07-13 20:51:17</td>\n",
       "    </tr>\n",
       "    <tr>\n",
       "      <th>4</th>\n",
       "      <td>2022-07-13 19:59:23</td>\n",
       "    </tr>\n",
       "  </tbody>\n",
       "</table>\n",
       "</div>"
      ],
      "text/plain": [
       "                  date\n",
       "0  2022-07-13 21:46:25\n",
       "1  2022-07-13 21:39:33\n",
       "2  2022-07-13 21:22:54\n",
       "3  2022-07-13 20:51:17\n",
       "4  2022-07-13 19:59:23"
      ]
     },
     "execution_count": 28,
     "metadata": {},
     "output_type": "execute_result"
    }
   ],
   "source": [
    "df[['date']].head()"
   ]
  },
  {
   "cell_type": "code",
   "execution_count": 33,
   "id": "f1f5e120-d796-4c2e-a108-94412bcbc4d5",
   "metadata": {},
   "outputs": [
    {
     "data": {
      "text/plain": [
       "0      2022-07-13\n",
       "1      2022-07-13\n",
       "2      2022-07-13\n",
       "3      2022-07-13\n",
       "4      2022-07-13\n",
       "          ...    \n",
       "245    2022-07-13\n",
       "246    2022-07-13\n",
       "247    2022-07-13\n",
       "248    2022-07-13\n",
       "249    2022-07-13\n",
       "Name: date, Length: 241, dtype: object"
      ]
     },
     "execution_count": 33,
     "metadata": {},
     "output_type": "execute_result"
    }
   ],
   "source": [
    "# This will convert the dates into the desired format.\n",
    "pd.to_datetime(df['date']).dt.date"
   ]
  },
  {
   "cell_type": "code",
   "execution_count": 43,
   "id": "7a1129b6-e654-42bb-ac2c-e9c532ea2476",
   "metadata": {},
   "outputs": [
    {
     "data": {
      "text/html": [
       "<div>\n",
       "<style scoped>\n",
       "    .dataframe tbody tr th:only-of-type {\n",
       "        vertical-align: middle;\n",
       "    }\n",
       "\n",
       "    .dataframe tbody tr th {\n",
       "        vertical-align: top;\n",
       "    }\n",
       "\n",
       "    .dataframe thead th {\n",
       "        text-align: right;\n",
       "    }\n",
       "</style>\n",
       "<table border=\"1\" class=\"dataframe\">\n",
       "  <thead>\n",
       "    <tr style=\"text-align: right;\">\n",
       "      <th></th>\n",
       "      <th>date</th>\n",
       "    </tr>\n",
       "  </thead>\n",
       "  <tbody>\n",
       "    <tr>\n",
       "      <th>0</th>\n",
       "      <td>2022-07-13 21:22:54</td>\n",
       "    </tr>\n",
       "    <tr>\n",
       "      <th>1</th>\n",
       "      <td>2022-07-11T20:03:23</td>\n",
       "    </tr>\n",
       "    <tr>\n",
       "      <th>2</th>\n",
       "      <td>Jul 6, 2022</td>\n",
       "    </tr>\n",
       "  </tbody>\n",
       "</table>\n",
       "</div>"
      ],
      "text/plain": [
       "                  date\n",
       "0  2022-07-13 21:22:54\n",
       "1  2022-07-11T20:03:23\n",
       "2          Jul 6, 2022"
      ]
     },
     "execution_count": 43,
     "metadata": {},
     "output_type": "execute_result"
    }
   ],
   "source": [
    "# Here I'll create a dataframe containing the various date formats I've seen so far to see if the above method\n",
    "# will work for mixed date formats.\n",
    "\n",
    "dummy_df = pd.DataFrame({'date' : ['2022-07-13 21:22:54', '2022-07-11T20:03:23', 'Jul 6, 2022']})\n",
    "dummy_df"
   ]
  },
  {
   "cell_type": "code",
   "execution_count": 44,
   "id": "0937bd9e-5d92-4a8c-a335-f6d953097dcf",
   "metadata": {},
   "outputs": [
    {
     "data": {
      "text/plain": [
       "0    2022-07-13\n",
       "1    2022-07-11\n",
       "2    2022-07-06\n",
       "Name: date, dtype: object"
      ]
     },
     "execution_count": 44,
     "metadata": {},
     "output_type": "execute_result"
    }
   ],
   "source": [
    "pd.to_datetime(dummy_df['date']).dt.date"
   ]
  },
  {
   "cell_type": "markdown",
   "id": "5c272012-fe61-43ae-9ae1-1e8c28f70a06",
   "metadata": {},
   "source": [
    "This strategy works, but with a caveat. This date \"2022-07-11T20:03:23\" is originally \"2022-07-11T20:03:23Z\" and this date \"Jul 6, 2022\" is originally \"Jul 6\". This means that depending on the format there would need to be slight modifications to the date string."
   ]
  },
  {
   "cell_type": "code",
   "execution_count": 58,
   "id": "f58ecbcd-be26-4628-ad92-d5d288c57c61",
   "metadata": {},
   "outputs": [],
   "source": [
    "# Here I'll make a function that will look at the date string and make a modification based on the format.\n",
    "def modify_date_string(date):\n",
    "    if date.endswith('Z'):\n",
    "        return date.replace('Z', '')\n",
    "    elif re.match(r'[a-zA-Z]{3}\\s[0-9]', date):\n",
    "        return date + ', ' + str(datetime.datetime.now().year)\n",
    "    else:\n",
    "        return date"
   ]
  },
  {
   "cell_type": "code",
   "execution_count": 59,
   "id": "1f0d0229-9247-4f7b-b518-f6491ec3bc5b",
   "metadata": {},
   "outputs": [
    {
     "data": {
      "text/html": [
       "<div>\n",
       "<style scoped>\n",
       "    .dataframe tbody tr th:only-of-type {\n",
       "        vertical-align: middle;\n",
       "    }\n",
       "\n",
       "    .dataframe tbody tr th {\n",
       "        vertical-align: top;\n",
       "    }\n",
       "\n",
       "    .dataframe thead th {\n",
       "        text-align: right;\n",
       "    }\n",
       "</style>\n",
       "<table border=\"1\" class=\"dataframe\">\n",
       "  <thead>\n",
       "    <tr style=\"text-align: right;\">\n",
       "      <th></th>\n",
       "      <th>date</th>\n",
       "    </tr>\n",
       "  </thead>\n",
       "  <tbody>\n",
       "    <tr>\n",
       "      <th>0</th>\n",
       "      <td>2022-07-13 21:22:54</td>\n",
       "    </tr>\n",
       "    <tr>\n",
       "      <th>1</th>\n",
       "      <td>2022-07-11T20:03:23Z</td>\n",
       "    </tr>\n",
       "    <tr>\n",
       "      <th>2</th>\n",
       "      <td>Jul 6</td>\n",
       "    </tr>\n",
       "  </tbody>\n",
       "</table>\n",
       "</div>"
      ],
      "text/plain": [
       "                   date\n",
       "0   2022-07-13 21:22:54\n",
       "1  2022-07-11T20:03:23Z\n",
       "2                 Jul 6"
      ]
     },
     "execution_count": 59,
     "metadata": {},
     "output_type": "execute_result"
    }
   ],
   "source": [
    "dummy_df = pd.DataFrame({'date' : ['2022-07-13 21:22:54', '2022-07-11T20:03:23Z', 'Jul 6']})\n",
    "dummy_df"
   ]
  },
  {
   "cell_type": "code",
   "execution_count": 60,
   "id": "d70acdb5-4c12-44a6-9fb0-a9b1f2fd4997",
   "metadata": {},
   "outputs": [
    {
     "data": {
      "text/html": [
       "<div>\n",
       "<style scoped>\n",
       "    .dataframe tbody tr th:only-of-type {\n",
       "        vertical-align: middle;\n",
       "    }\n",
       "\n",
       "    .dataframe tbody tr th {\n",
       "        vertical-align: top;\n",
       "    }\n",
       "\n",
       "    .dataframe thead th {\n",
       "        text-align: right;\n",
       "    }\n",
       "</style>\n",
       "<table border=\"1\" class=\"dataframe\">\n",
       "  <thead>\n",
       "    <tr style=\"text-align: right;\">\n",
       "      <th></th>\n",
       "      <th>date</th>\n",
       "    </tr>\n",
       "  </thead>\n",
       "  <tbody>\n",
       "    <tr>\n",
       "      <th>0</th>\n",
       "      <td>2022-07-13 21:22:54</td>\n",
       "    </tr>\n",
       "    <tr>\n",
       "      <th>1</th>\n",
       "      <td>2022-07-11T20:03:23</td>\n",
       "    </tr>\n",
       "    <tr>\n",
       "      <th>2</th>\n",
       "      <td>Jul 6, 2022</td>\n",
       "    </tr>\n",
       "  </tbody>\n",
       "</table>\n",
       "</div>"
      ],
      "text/plain": [
       "                  date\n",
       "0  2022-07-13 21:22:54\n",
       "1  2022-07-11T20:03:23\n",
       "2          Jul 6, 2022"
      ]
     },
     "execution_count": 60,
     "metadata": {},
     "output_type": "execute_result"
    }
   ],
   "source": [
    "dummy_df['date'] = dummy_df['date'].apply(modify_date_string)\n",
    "dummy_df"
   ]
  },
  {
   "cell_type": "markdown",
   "id": "1f69f649-b7f4-477e-9c0a-a32a2b0c0bff",
   "metadata": {},
   "source": [
    "Now with the string modifications applied and the date format conversion above we'll be able to properly format the dates.\n",
    "\n",
    "## Word Count and Read Time\n",
    "\n",
    "These two features will be used to determine how to fill in read_time when a read time is not provided. The only change that needs to be done here is to cast these to int types."
   ]
  },
  {
   "cell_type": "code",
   "execution_count": 63,
   "id": "edfc0697-59d9-446d-ba6b-c9a2eae5f41d",
   "metadata": {},
   "outputs": [
    {
     "data": {
      "text/html": [
       "<div>\n",
       "<style scoped>\n",
       "    .dataframe tbody tr th:only-of-type {\n",
       "        vertical-align: middle;\n",
       "    }\n",
       "\n",
       "    .dataframe tbody tr th {\n",
       "        vertical-align: top;\n",
       "    }\n",
       "\n",
       "    .dataframe thead th {\n",
       "        text-align: right;\n",
       "    }\n",
       "</style>\n",
       "<table border=\"1\" class=\"dataframe\">\n",
       "  <thead>\n",
       "    <tr style=\"text-align: right;\">\n",
       "      <th></th>\n",
       "      <th>word_count</th>\n",
       "      <th>read_time</th>\n",
       "    </tr>\n",
       "  </thead>\n",
       "  <tbody>\n",
       "    <tr>\n",
       "      <th>0</th>\n",
       "      <td>4208.0</td>\n",
       "      <td>21.0</td>\n",
       "    </tr>\n",
       "    <tr>\n",
       "      <th>1</th>\n",
       "      <td>47.0</td>\n",
       "      <td>0.0</td>\n",
       "    </tr>\n",
       "    <tr>\n",
       "      <th>2</th>\n",
       "      <td>572.0</td>\n",
       "      <td>2.0</td>\n",
       "    </tr>\n",
       "    <tr>\n",
       "      <th>3</th>\n",
       "      <td>866.0</td>\n",
       "      <td>3.0</td>\n",
       "    </tr>\n",
       "    <tr>\n",
       "      <th>4</th>\n",
       "      <td>1421.0</td>\n",
       "      <td>6.0</td>\n",
       "    </tr>\n",
       "  </tbody>\n",
       "</table>\n",
       "</div>"
      ],
      "text/plain": [
       "   word_count  read_time\n",
       "0      4208.0       21.0\n",
       "1        47.0        0.0\n",
       "2       572.0        2.0\n",
       "3       866.0        3.0\n",
       "4      1421.0        6.0"
      ]
     },
     "execution_count": 63,
     "metadata": {},
     "output_type": "execute_result"
    }
   ],
   "source": [
    "df[['word_count', 'read_time']].head()"
   ]
  },
  {
   "cell_type": "code",
   "execution_count": 64,
   "id": "827ce175-f951-4c24-aba9-82e077f259d9",
   "metadata": {},
   "outputs": [
    {
     "data": {
      "text/html": [
       "<div>\n",
       "<style scoped>\n",
       "    .dataframe tbody tr th:only-of-type {\n",
       "        vertical-align: middle;\n",
       "    }\n",
       "\n",
       "    .dataframe tbody tr th {\n",
       "        vertical-align: top;\n",
       "    }\n",
       "\n",
       "    .dataframe thead th {\n",
       "        text-align: right;\n",
       "    }\n",
       "</style>\n",
       "<table border=\"1\" class=\"dataframe\">\n",
       "  <thead>\n",
       "    <tr style=\"text-align: right;\">\n",
       "      <th></th>\n",
       "      <th>word_count</th>\n",
       "      <th>read_time</th>\n",
       "    </tr>\n",
       "  </thead>\n",
       "  <tbody>\n",
       "    <tr>\n",
       "      <th>0</th>\n",
       "      <td>4208</td>\n",
       "      <td>21</td>\n",
       "    </tr>\n",
       "    <tr>\n",
       "      <th>1</th>\n",
       "      <td>47</td>\n",
       "      <td>0</td>\n",
       "    </tr>\n",
       "    <tr>\n",
       "      <th>2</th>\n",
       "      <td>572</td>\n",
       "      <td>2</td>\n",
       "    </tr>\n",
       "    <tr>\n",
       "      <th>3</th>\n",
       "      <td>866</td>\n",
       "      <td>3</td>\n",
       "    </tr>\n",
       "    <tr>\n",
       "      <th>4</th>\n",
       "      <td>1421</td>\n",
       "      <td>6</td>\n",
       "    </tr>\n",
       "  </tbody>\n",
       "</table>\n",
       "</div>"
      ],
      "text/plain": [
       "   word_count  read_time\n",
       "0        4208         21\n",
       "1          47          0\n",
       "2         572          2\n",
       "3         866          3\n",
       "4        1421          6"
      ]
     },
     "execution_count": 64,
     "metadata": {},
     "output_type": "execute_result"
    }
   ],
   "source": [
    "df[['word_count', 'read_time']] = df[['word_count', 'read_time']].astype(int)\n",
    "df[['word_count', 'read_time']].head()"
   ]
  },
  {
   "cell_type": "markdown",
   "id": "498c0b38-b364-492c-9024-de81ba1cc101",
   "metadata": {},
   "source": [
    "## Tags and Topics"
   ]
  },
  {
   "cell_type": "code",
   "execution_count": 65,
   "id": "f57b94ab-b4c0-46aa-bf97-17219b95780a",
   "metadata": {},
   "outputs": [
    {
     "data": {
      "text/html": [
       "<div>\n",
       "<style scoped>\n",
       "    .dataframe tbody tr th:only-of-type {\n",
       "        vertical-align: middle;\n",
       "    }\n",
       "\n",
       "    .dataframe tbody tr th {\n",
       "        vertical-align: top;\n",
       "    }\n",
       "\n",
       "    .dataframe thead th {\n",
       "        text-align: right;\n",
       "    }\n",
       "</style>\n",
       "<table border=\"1\" class=\"dataframe\">\n",
       "  <thead>\n",
       "    <tr style=\"text-align: right;\">\n",
       "      <th></th>\n",
       "      <th>tags</th>\n",
       "      <th>topics</th>\n",
       "    </tr>\n",
       "  </thead>\n",
       "  <tbody>\n",
       "    <tr>\n",
       "      <th>0</th>\n",
       "      <td>['programming', 'software-development', 'pytho...</td>\n",
       "      <td>{}</td>\n",
       "    </tr>\n",
       "    <tr>\n",
       "      <th>1</th>\n",
       "      <td>['python', 'data', 'data-science', 'sql', 'pan...</td>\n",
       "      <td>['programming']</td>\n",
       "    </tr>\n",
       "    <tr>\n",
       "      <th>2</th>\n",
       "      <td>['python', 'programming', 'coding', 'software-...</td>\n",
       "      <td>['programming']</td>\n",
       "    </tr>\n",
       "    <tr>\n",
       "      <th>3</th>\n",
       "      <td>['numpy', 'arrays', 'python', 'data-science', ...</td>\n",
       "      <td>['data-science', 'programming']</td>\n",
       "    </tr>\n",
       "    <tr>\n",
       "      <th>4</th>\n",
       "      <td>['machine-learning', 'python', 'computer-scien...</td>\n",
       "      <td>['machine-learning']</td>\n",
       "    </tr>\n",
       "  </tbody>\n",
       "</table>\n",
       "</div>"
      ],
      "text/plain": [
       "                                                tags  \\\n",
       "0  ['programming', 'software-development', 'pytho...   \n",
       "1  ['python', 'data', 'data-science', 'sql', 'pan...   \n",
       "2  ['python', 'programming', 'coding', 'software-...   \n",
       "3  ['numpy', 'arrays', 'python', 'data-science', ...   \n",
       "4  ['machine-learning', 'python', 'computer-scien...   \n",
       "\n",
       "                            topics  \n",
       "0                               {}  \n",
       "1                  ['programming']  \n",
       "2                  ['programming']  \n",
       "3  ['data-science', 'programming']  \n",
       "4             ['machine-learning']  "
      ]
     },
     "execution_count": 65,
     "metadata": {},
     "output_type": "execute_result"
    }
   ],
   "source": [
    "df[['tags', 'topics']].head()"
   ]
  },
  {
   "cell_type": "code",
   "execution_count": null,
   "id": "97e401d7-41e7-4880-a370-aece091df0a4",
   "metadata": {},
   "outputs": [],
   "source": []
  }
 ],
 "metadata": {
  "kernelspec": {
   "display_name": "article_recommender_venv",
   "language": "python",
   "name": "article_recommender_venv"
  },
  "language_info": {
   "codemirror_mode": {
    "name": "ipython",
    "version": 3
   },
   "file_extension": ".py",
   "mimetype": "text/x-python",
   "name": "python",
   "nbconvert_exporter": "python",
   "pygments_lexer": "ipython3",
   "version": "3.9.7"
  }
 },
 "nbformat": 4,
 "nbformat_minor": 5
}
