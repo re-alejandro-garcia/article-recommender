{
 "cells": [
  {
   "cell_type": "markdown",
   "id": "c0a030eb-f752-44b7-968c-fc02c38bbfc4",
   "metadata": {},
   "source": [
    "# Preparing Collected Data\n",
    "\n",
    "In this notebook we'll go through the process of preparing the collected article data. The steps outlined here will allow for reproducing the results in production. The main interest here is to normalize the data in such a way that it can be easily utilized in exploration and modeling in production.\n",
    "\n",
    "## Imports\n",
    "\n",
    "These are all the modules that we'll need to run the code in this notebook."
   ]
  },
  {
   "cell_type": "code",
   "execution_count": 1,
   "id": "6d7cadb3-0c75-491c-a7fb-e7502ed29cb1",
   "metadata": {},
   "outputs": [],
   "source": [
    "import numpy as np\n",
    "import pandas as pd"
   ]
  },
  {
   "cell_type": "markdown",
   "id": "fa59bfa0-9fcd-4287-ac9c-3f7866a11e60",
   "metadata": {},
   "source": [
    "## Pulling the Training Data\n",
    "\n",
    "A set of article data has been set aside for the purposes of data analysis and model training. Here I'll load that data and take a look at what features we're working with."
   ]
  },
  {
   "cell_type": "code",
   "execution_count": null,
   "id": "8466b9a9-8ffe-417e-a3fe-d62afedbe5cb",
   "metadata": {},
   "outputs": [],
   "source": [
    "df = pd.read_csv('articles_with_topic_label.csv')"
   ]
  }
 ],
 "metadata": {
  "kernelspec": {
   "display_name": "article_recommender_venv",
   "language": "python",
   "name": "article_recommender_venv"
  },
  "language_info": {
   "codemirror_mode": {
    "name": "ipython",
    "version": 3
   },
   "file_extension": ".py",
   "mimetype": "text/x-python",
   "name": "python",
   "nbconvert_exporter": "python",
   "pygments_lexer": "ipython3",
   "version": "3.9.7"
  }
 },
 "nbformat": 4,
 "nbformat_minor": 5
}
